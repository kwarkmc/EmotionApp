{
 "cells": [
  {
   "cell_type": "code",
   "execution_count": 1,
   "id": "010dfb87",
   "metadata": {},
   "outputs": [],
   "source": [
    "from tensorflow.keras import models\n",
    "from tensorflow.keras import layers\n",
    "from tensorflow.keras import optimizers\n",
    "from tensorflow.keras import losses\n",
    "from tensorflow.keras import metrics\n",
    "from keras.models import load_model\n",
    "\n",
    "import numpy as np\n",
    "import librosa\n",
    "import librosa.display\n",
    "import sklearn\n",
    "import matplotlib.pyplot as plt\n",
    "import speech_recognition as VTT\n",
    "from unicodedata import normalize\n",
    "import os\n",
    "import sys"
   ]
  },
  {
   "cell_type": "code",
   "execution_count": 2,
   "id": "ef196875",
   "metadata": {},
   "outputs": [],
   "source": [
    "pad2d = lambda a, i: a[:, 0:i] if a.shape[1] > i else np.hstack((a, np.zeros((a.shape[0], i-a.shape[1]))))"
   ]
  },
  {
   "cell_type": "markdown",
   "id": "03d42148",
   "metadata": {},
   "source": [
    "Voice To Emotion _ 곽민창"
   ]
  },
  {
   "cell_type": "code",
   "execution_count": 3,
   "id": "83d53988",
   "metadata": {},
   "outputs": [],
   "source": [
    "VTE_Array = []\n",
    "TTE_Array = []"
   ]
  },
  {
   "cell_type": "code",
   "execution_count": 4,
   "id": "c28bc830",
   "metadata": {},
   "outputs": [],
   "source": [
    "model = load_model('weight.h5')"
   ]
  },
  {
   "cell_type": "code",
   "execution_count": 5,
   "id": "12b6b790",
   "metadata": {},
   "outputs": [
    {
     "name": "stdout",
     "output_type": "stream",
     "text": [
      "Sample1.wav\n"
     ]
    },
    {
     "name": "stderr",
     "output_type": "stream",
     "text": [
      "C:\\Users\\kwarkmc\\.conda\\envs\\capstone\\lib\\site-packages\\librosa\\util\\decorators.py:88: UserWarning: Empty filters detected in mel frequency basis. Some channels will produce empty responses. Try increasing your sampling rate (and fmax) or reducing n_mels.\n",
      "  return f(*args, **kwargs)\n",
      "C:\\Users\\kwarkmc\\.conda\\envs\\capstone\\lib\\site-packages\\sklearn\\preprocessing\\_data.py:239: UserWarning: Numerical issues were encountered when centering the data and might not be solved. Dataset may contain too large values. You may need to prescale your features.\n",
      "  warnings.warn(\n",
      "C:\\Users\\kwarkmc\\.conda\\envs\\capstone\\lib\\site-packages\\sklearn\\preprocessing\\_data.py:258: UserWarning: Numerical issues were encountered when scaling the data and might not be solved. The standard deviation of the data is probably very close to 0. \n",
      "  warnings.warn(\n"
     ]
    },
    {
     "name": "stdout",
     "output_type": "stream",
     "text": [
      "1/1 [==============================] - 0s 267ms/step\n",
      "Sample2.wav\n",
      "1/1 [==============================] - 0s 68ms/step\n"
     ]
    },
    {
     "name": "stderr",
     "output_type": "stream",
     "text": [
      "C:\\Users\\kwarkmc\\.conda\\envs\\capstone\\lib\\site-packages\\librosa\\util\\decorators.py:88: UserWarning: Empty filters detected in mel frequency basis. Some channels will produce empty responses. Try increasing your sampling rate (and fmax) or reducing n_mels.\n",
      "  return f(*args, **kwargs)\n",
      "C:\\Users\\kwarkmc\\.conda\\envs\\capstone\\lib\\site-packages\\sklearn\\preprocessing\\_data.py:239: UserWarning: Numerical issues were encountered when centering the data and might not be solved. Dataset may contain too large values. You may need to prescale your features.\n",
      "  warnings.warn(\n",
      "C:\\Users\\kwarkmc\\.conda\\envs\\capstone\\lib\\site-packages\\sklearn\\preprocessing\\_data.py:258: UserWarning: Numerical issues were encountered when scaling the data and might not be solved. The standard deviation of the data is probably very close to 0. \n",
      "  warnings.warn(\n"
     ]
    }
   ],
   "source": [
    "for filename in os.listdir(\"WAV/\"):\n",
    "    filename = normalize('NFC', filename)\n",
    "    try:\n",
    "        if '.wav' not in filename in filename:\n",
    "            continue\n",
    "        wav, sr = librosa.load(\"WAV/\" + filename, sr=None)\n",
    "        print(filename)\n",
    "        \n",
    "        mfcc = librosa.feature.mfcc(y=wav, sr=sr, n_mfcc=100, n_fft=400, hop_length=160)\n",
    "        mfcc = sklearn.preprocessing.scale(mfcc, axis=1)\n",
    "        padded_mfcc = pad2d(mfcc, 700)\n",
    "        padded_mfcc = np.expand_dims(padded_mfcc, 0)\n",
    "        \n",
    "        VTE_result = model.predict(padded_mfcc)\n",
    "        VTE_Array.append(VTE_result)\n",
    "        \n",
    "    except Exception as e:\n",
    "        print(filename, e)\n",
    "        raise"
   ]
  },
  {
   "cell_type": "markdown",
   "id": "7100cdca",
   "metadata": {},
   "source": [
    "Voice To Text _ 이승렬"
   ]
  },
  {
   "cell_type": "code",
   "execution_count": 6,
   "id": "57295d65",
   "metadata": {},
   "outputs": [],
   "source": [
    "r = VTT.Recognizer()\n",
    "name = 0"
   ]
  },
  {
   "cell_type": "code",
   "execution_count": 7,
   "id": "a056d71e",
   "metadata": {},
   "outputs": [
    {
     "name": "stdout",
     "output_type": "stream",
     "text": [
      "result2:\n",
      "{   'alternative': [   {   'confidence': 0.82105619,\n",
      "                           'transcript': '얼굴은 화끈 화끈 하고 가슴이 무서워 하는 사람처럼 뛰어 '\n",
      "                                         '놀았습니다'},\n",
      "                       {'transcript': '얼굴은 화끈 화끈 하고 가슴이 무서워하는 사람처럼 뛰어 놀았습니다'},\n",
      "                       {'transcript': '얼굴은 화끈화끈 하고 가슴이 무서워 하는 사람처럼 뛰어 놀았습니다'},\n",
      "                       {'transcript': '얼굴은 화끈화끈 하고 가슴이 무서워하는 사람처럼 뛰어 놀았습니다'},\n",
      "                       {'transcript': '얼굴은 화끈 화끈 하고 가슴이 무서워 하는 사람처럼 띠 놀았습니다'}],\n",
      "    'final': True}\n"
     ]
    }
   ],
   "source": [
    "for filename in os.listdir(\"WAV/\"):\n",
    "    filename = normalize('NFC', filename)\n",
    "    try:\n",
    "        if '.wav' not in filename in filename:\n",
    "            continue\n",
    "        \n",
    "        kr_audio = VTT.AudioFile(\"WAV/\" + filename)\n",
    "        with kr_audio as source:\n",
    "            VTT_audio = r.record(source)\n",
    "        temp = r.recognize_google(VTT_audio, language='ko-KR')\n",
    "        \n",
    "        sys.stdout = open(\"TXT/\" + str(name) + '.txt', 'w')\n",
    "        #sys.stdout.close()\n",
    "        \n",
    "        #TODO : _승렬 stdout.close를 하지 않아서 그런지, Sample 두개가 있었는데 첫 번째 샘플만 txt 파일이 생성되고, 두 번째 샘플에는 빈 txt 파일이 생성되는 문제 생김.\n",
    "        name = name + 1\n",
    "        \n",
    "    except Exception as e:\n",
    "        print(filename, e)\n",
    "        raise"
   ]
  },
  {
   "cell_type": "markdown",
   "id": "6a7858a2",
   "metadata": {},
   "source": [
    "Text To Emotion _ 김지호"
   ]
  },
  {
   "cell_type": "code",
   "execution_count": 8,
   "id": "904a4f7d",
   "metadata": {},
   "outputs": [],
   "source": [
    "import nltk\n",
    "from konlpy.tag import Okt\n",
    "import json\n",
    "okt = Okt()"
   ]
  },
  {
   "cell_type": "code",
   "execution_count": 9,
   "id": "830e2c07",
   "metadata": {},
   "outputs": [],
   "source": [
    "def read_data(filename):\n",
    "    with open(filename, 'r', encoding = 'UTF8') as f:\n",
    "        data = [line.split('\\t') for line in f.read().splitlines()]\n",
    "        data = data[1:]\n",
    "    return data"
   ]
  },
  {
   "cell_type": "code",
   "execution_count": 10,
   "id": "2e908b41",
   "metadata": {},
   "outputs": [],
   "source": [
    "def tokenize(doc):\n",
    "    return ['/'.join(t) for t in okt.pos(doc, norm=True, stem=True)]"
   ]
  },
  {
   "cell_type": "code",
   "execution_count": 11,
   "id": "9049e7c9",
   "metadata": {},
   "outputs": [],
   "source": [
    "train_data = read_data(\"2. kimjiho/문자열_train_data.txt\")\n",
    "test_data = read_data(\"2. kimjiho/문자열_test_data.txt\")"
   ]
  },
  {
   "cell_type": "code",
   "execution_count": 12,
   "id": "d81d6126",
   "metadata": {},
   "outputs": [],
   "source": [
    "if os.path.isfile('2. kimjiho/train_docs.json'):\n",
    "    with open('2. kimjiho/train_docs.json',encoding=\"UTF-8\")as f:\n",
    "        train_docs = json.load(f)\n",
    "    with open('2. kimjiho/test_docs.json',encoding=\"UTF-8\")as f:\n",
    "        test_docs = json.load(f)\n",
    "else:\n",
    "    train_docs = [(tokenize(row[0]),row[1]) for row in train_data]\n",
    "    test_docs = [(tokenize(row[0]),row[1]) for row in test_data]\n",
    "    with open('2. kimjiho/train_docs.json','w',encoding=\"UTF-8\")as make_file:\n",
    "        json.dump(train_docs, make_file, ensure_ascii=False, indent=\"\\t\")\n",
    "    with open('2. kimjiho/test_docs.json','w',encoding=\"UTF-8\")as make_file:\n",
    "        json.dump(test_docs, make_file, ensure_ascii=False, indent=\"\\t\")"
   ]
  },
  {
   "cell_type": "code",
   "execution_count": 13,
   "id": "26d2b1e1",
   "metadata": {},
   "outputs": [],
   "source": [
    "tokens = [t for d in train_docs for t in d[0]]\n",
    "text = nltk.Text(tokens, name='NMSC')\n",
    "selected_words = [f[0] for f in text.vocab().most_common(20000)]\n",
    "def term_frequency(doc):\n",
    "    return [doc.count(word) for word in selected_words]"
   ]
  },
  {
   "cell_type": "code",
   "execution_count": 14,
   "id": "33696f13",
   "metadata": {},
   "outputs": [],
   "source": [
    "#감정 추출해주는 Result 함수\n",
    "def predict_pos_neg(review):\n",
    "    token = tokenize(review)\n",
    "    tf = term_frequency(token)\n",
    "    data = np.expand_dims(np.array(tf).astype('float32'),axis=0)\n",
    "    score = float(model.predict(data))\n",
    "    if(score>0.5):\n",
    "        print(\"오늘의 긍정지수는 {:2f}%입니다.\\n\".format(score*100))\n",
    "        return score*100\n",
    "    else:\n",
    "        print(\"오늘의 부정지수는 {:2f}%입니다.\\n\".format((1-score)*100))\n",
    "        return score*100"
   ]
  },
  {
   "cell_type": "code",
   "execution_count": 16,
   "id": "da66b7e0",
   "metadata": {},
   "outputs": [
    {
     "ename": "InvalidArgumentError",
     "evalue": "Graph execution error:\n\nDetected at node 'sequential/conv2d/Relu' defined at (most recent call last):\n    File \"C:\\Users\\kwarkmc\\.conda\\envs\\capstone\\lib\\runpy.py\", line 196, in _run_module_as_main\n      return _run_code(code, main_globals, None,\n    File \"C:\\Users\\kwarkmc\\.conda\\envs\\capstone\\lib\\runpy.py\", line 86, in _run_code\n      exec(code, run_globals)\n    File \"C:\\Users\\kwarkmc\\.conda\\envs\\capstone\\lib\\site-packages\\ipykernel_launcher.py\", line 17, in <module>\n      app.launch_new_instance()\n    File \"C:\\Users\\kwarkmc\\.conda\\envs\\capstone\\lib\\site-packages\\traitlets\\config\\application.py\", line 846, in launch_instance\n      app.start()\n    File \"C:\\Users\\kwarkmc\\.conda\\envs\\capstone\\lib\\site-packages\\ipykernel\\kernelapp.py\", line 712, in start\n      self.io_loop.start()\n    File \"C:\\Users\\kwarkmc\\.conda\\envs\\capstone\\lib\\site-packages\\tornado\\platform\\asyncio.py\", line 215, in start\n      self.asyncio_loop.run_forever()\n    File \"C:\\Users\\kwarkmc\\.conda\\envs\\capstone\\lib\\asyncio\\base_events.py\", line 603, in run_forever\n      self._run_once()\n    File \"C:\\Users\\kwarkmc\\.conda\\envs\\capstone\\lib\\asyncio\\base_events.py\", line 1899, in _run_once\n      handle._run()\n    File \"C:\\Users\\kwarkmc\\.conda\\envs\\capstone\\lib\\asyncio\\events.py\", line 80, in _run\n      self._context.run(self._callback, *self._args)\n    File \"C:\\Users\\kwarkmc\\.conda\\envs\\capstone\\lib\\site-packages\\ipykernel\\kernelbase.py\", line 510, in dispatch_queue\n      await self.process_one()\n    File \"C:\\Users\\kwarkmc\\.conda\\envs\\capstone\\lib\\site-packages\\ipykernel\\kernelbase.py\", line 499, in process_one\n      await dispatch(*args)\n    File \"C:\\Users\\kwarkmc\\.conda\\envs\\capstone\\lib\\site-packages\\ipykernel\\kernelbase.py\", line 406, in dispatch_shell\n      await result\n    File \"C:\\Users\\kwarkmc\\.conda\\envs\\capstone\\lib\\site-packages\\ipykernel\\kernelbase.py\", line 730, in execute_request\n      reply_content = await reply_content\n    File \"C:\\Users\\kwarkmc\\.conda\\envs\\capstone\\lib\\site-packages\\ipykernel\\ipkernel.py\", line 383, in do_execute\n      res = shell.run_cell(\n    File \"C:\\Users\\kwarkmc\\.conda\\envs\\capstone\\lib\\site-packages\\ipykernel\\zmqshell.py\", line 528, in run_cell\n      return super().run_cell(*args, **kwargs)\n    File \"C:\\Users\\kwarkmc\\.conda\\envs\\capstone\\lib\\site-packages\\IPython\\core\\interactiveshell.py\", line 2940, in run_cell\n      result = self._run_cell(\n    File \"C:\\Users\\kwarkmc\\.conda\\envs\\capstone\\lib\\site-packages\\IPython\\core\\interactiveshell.py\", line 2995, in _run_cell\n      return runner(coro)\n    File \"C:\\Users\\kwarkmc\\.conda\\envs\\capstone\\lib\\site-packages\\IPython\\core\\async_helpers.py\", line 129, in _pseudo_sync_runner\n      coro.send(None)\n    File \"C:\\Users\\kwarkmc\\.conda\\envs\\capstone\\lib\\site-packages\\IPython\\core\\interactiveshell.py\", line 3194, in run_cell_async\n      has_raised = await self.run_ast_nodes(code_ast.body, cell_name,\n    File \"C:\\Users\\kwarkmc\\.conda\\envs\\capstone\\lib\\site-packages\\IPython\\core\\interactiveshell.py\", line 3373, in run_ast_nodes\n      if await self.run_code(code, result, async_=asy):\n    File \"C:\\Users\\kwarkmc\\.conda\\envs\\capstone\\lib\\site-packages\\IPython\\core\\interactiveshell.py\", line 3433, in run_code\n      exec(code_obj, self.user_global_ns, self.user_ns)\n    File \"C:\\Users\\kwarkmc\\AppData\\Local\\Temp\\ipykernel_9908\\1647805615.py\", line 6, in <module>\n      TTE_Result = predict_pos_neg(\"input 입력할것\")\n    File \"C:\\Users\\kwarkmc\\AppData\\Local\\Temp\\ipykernel_9908\\3875805020.py\", line 6, in predict_pos_neg\n      score = float(model.predict(data))\n    File \"C:\\Users\\kwarkmc\\.conda\\envs\\capstone\\lib\\site-packages\\keras\\utils\\traceback_utils.py\", line 65, in error_handler\n      return fn(*args, **kwargs)\n    File \"C:\\Users\\kwarkmc\\.conda\\envs\\capstone\\lib\\site-packages\\keras\\engine\\training.py\", line 2350, in predict\n      tmp_batch_outputs = self.predict_function(iterator)\n    File \"C:\\Users\\kwarkmc\\.conda\\envs\\capstone\\lib\\site-packages\\keras\\engine\\training.py\", line 2137, in predict_function\n      return step_function(self, iterator)\n    File \"C:\\Users\\kwarkmc\\.conda\\envs\\capstone\\lib\\site-packages\\keras\\engine\\training.py\", line 2123, in step_function\n      outputs = model.distribute_strategy.run(run_step, args=(data,))\n    File \"C:\\Users\\kwarkmc\\.conda\\envs\\capstone\\lib\\site-packages\\keras\\engine\\training.py\", line 2111, in run_step\n      outputs = model.predict_step(data)\n    File \"C:\\Users\\kwarkmc\\.conda\\envs\\capstone\\lib\\site-packages\\keras\\engine\\training.py\", line 2079, in predict_step\n      return self(x, training=False)\n    File \"C:\\Users\\kwarkmc\\.conda\\envs\\capstone\\lib\\site-packages\\keras\\utils\\traceback_utils.py\", line 65, in error_handler\n      return fn(*args, **kwargs)\n    File \"C:\\Users\\kwarkmc\\.conda\\envs\\capstone\\lib\\site-packages\\keras\\engine\\training.py\", line 561, in __call__\n      return super().__call__(*args, **kwargs)\n    File \"C:\\Users\\kwarkmc\\.conda\\envs\\capstone\\lib\\site-packages\\keras\\utils\\traceback_utils.py\", line 65, in error_handler\n      return fn(*args, **kwargs)\n    File \"C:\\Users\\kwarkmc\\.conda\\envs\\capstone\\lib\\site-packages\\keras\\engine\\base_layer.py\", line 1132, in __call__\n      outputs = call_fn(inputs, *args, **kwargs)\n    File \"C:\\Users\\kwarkmc\\.conda\\envs\\capstone\\lib\\site-packages\\keras\\utils\\traceback_utils.py\", line 96, in error_handler\n      return fn(*args, **kwargs)\n    File \"C:\\Users\\kwarkmc\\.conda\\envs\\capstone\\lib\\site-packages\\keras\\engine\\sequential.py\", line 413, in call\n      return super().call(inputs, training=training, mask=mask)\n    File \"C:\\Users\\kwarkmc\\.conda\\envs\\capstone\\lib\\site-packages\\keras\\engine\\functional.py\", line 511, in call\n      return self._run_internal_graph(inputs, training=training, mask=mask)\n    File \"C:\\Users\\kwarkmc\\.conda\\envs\\capstone\\lib\\site-packages\\keras\\engine\\functional.py\", line 668, in _run_internal_graph\n      outputs = node.layer(*args, **kwargs)\n    File \"C:\\Users\\kwarkmc\\.conda\\envs\\capstone\\lib\\site-packages\\keras\\utils\\traceback_utils.py\", line 65, in error_handler\n      return fn(*args, **kwargs)\n    File \"C:\\Users\\kwarkmc\\.conda\\envs\\capstone\\lib\\site-packages\\keras\\engine\\base_layer.py\", line 1132, in __call__\n      outputs = call_fn(inputs, *args, **kwargs)\n    File \"C:\\Users\\kwarkmc\\.conda\\envs\\capstone\\lib\\site-packages\\keras\\utils\\traceback_utils.py\", line 96, in error_handler\n      return fn(*args, **kwargs)\n    File \"C:\\Users\\kwarkmc\\.conda\\envs\\capstone\\lib\\site-packages\\keras\\layers\\convolutional\\base_conv.py\", line 314, in call\n      return self.activation(outputs)\n    File \"C:\\Users\\kwarkmc\\.conda\\envs\\capstone\\lib\\site-packages\\keras\\activations.py\", line 317, in relu\n      return backend.relu(\n    File \"C:\\Users\\kwarkmc\\.conda\\envs\\capstone\\lib\\site-packages\\keras\\backend.py\", line 5369, in relu\n      x = tf.nn.relu(x)\nNode: 'sequential/conv2d/Relu'\nconvolution input must be 4-dimensional: [1,20000]\n\t [[{{node sequential/conv2d/Relu}}]] [Op:__inference_predict_function_458]",
     "output_type": "error",
     "traceback": [
      "\u001b[1;31m---------------------------------------------------------------------------\u001b[0m",
      "\u001b[1;31mInvalidArgumentError\u001b[0m                      Traceback (most recent call last)",
      "Cell \u001b[1;32mIn [16], line 9\u001b[0m\n\u001b[0;32m      7\u001b[0m     input_txt \u001b[38;5;241m=\u001b[39m f\u001b[38;5;241m.\u001b[39mread()\n\u001b[0;32m      8\u001b[0m     f\u001b[38;5;241m.\u001b[39mclose()\n\u001b[1;32m----> 9\u001b[0m     TTE_Result \u001b[38;5;241m=\u001b[39m \u001b[43mpredict_pos_neg\u001b[49m\u001b[43m(\u001b[49m\u001b[43minput_txt\u001b[49m\u001b[43m)\u001b[49m\n\u001b[0;32m     10\u001b[0m     TTE_Array\u001b[38;5;241m.\u001b[39mappend(TTE_Result)\n\u001b[0;32m     11\u001b[0m \u001b[38;5;28;01mexcept\u001b[39;00m \u001b[38;5;167;01mException\u001b[39;00m \u001b[38;5;28;01mas\u001b[39;00m e:\n",
      "Cell \u001b[1;32mIn [14], line 6\u001b[0m, in \u001b[0;36mpredict_pos_neg\u001b[1;34m(review)\u001b[0m\n\u001b[0;32m      4\u001b[0m tf \u001b[38;5;241m=\u001b[39m term_frequency(token)\n\u001b[0;32m      5\u001b[0m data \u001b[38;5;241m=\u001b[39m np\u001b[38;5;241m.\u001b[39mexpand_dims(np\u001b[38;5;241m.\u001b[39marray(tf)\u001b[38;5;241m.\u001b[39mastype(\u001b[38;5;124m'\u001b[39m\u001b[38;5;124mfloat32\u001b[39m\u001b[38;5;124m'\u001b[39m),axis\u001b[38;5;241m=\u001b[39m\u001b[38;5;241m0\u001b[39m)\n\u001b[1;32m----> 6\u001b[0m score \u001b[38;5;241m=\u001b[39m \u001b[38;5;28mfloat\u001b[39m(\u001b[43mmodel\u001b[49m\u001b[38;5;241;43m.\u001b[39;49m\u001b[43mpredict\u001b[49m\u001b[43m(\u001b[49m\u001b[43mdata\u001b[49m\u001b[43m)\u001b[49m)\n\u001b[0;32m      7\u001b[0m \u001b[38;5;28;01mif\u001b[39;00m(score\u001b[38;5;241m>\u001b[39m\u001b[38;5;241m0.5\u001b[39m):\n\u001b[0;32m      8\u001b[0m     \u001b[38;5;28mprint\u001b[39m(\u001b[38;5;124m\"\u001b[39m\u001b[38;5;124m오늘의 긍정지수는 \u001b[39m\u001b[38;5;132;01m{:2f}\u001b[39;00m\u001b[38;5;124m%\u001b[39m\u001b[38;5;124m입니다.\u001b[39m\u001b[38;5;130;01m\\n\u001b[39;00m\u001b[38;5;124m\"\u001b[39m\u001b[38;5;241m.\u001b[39mformat(score\u001b[38;5;241m*\u001b[39m\u001b[38;5;241m100\u001b[39m))\n",
      "File \u001b[1;32m~\\.conda\\envs\\capstone\\lib\\site-packages\\keras\\utils\\traceback_utils.py:70\u001b[0m, in \u001b[0;36mfilter_traceback.<locals>.error_handler\u001b[1;34m(*args, **kwargs)\u001b[0m\n\u001b[0;32m     67\u001b[0m     filtered_tb \u001b[38;5;241m=\u001b[39m _process_traceback_frames(e\u001b[38;5;241m.\u001b[39m__traceback__)\n\u001b[0;32m     68\u001b[0m     \u001b[38;5;66;03m# To get the full stack trace, call:\u001b[39;00m\n\u001b[0;32m     69\u001b[0m     \u001b[38;5;66;03m# `tf.debugging.disable_traceback_filtering()`\u001b[39;00m\n\u001b[1;32m---> 70\u001b[0m     \u001b[38;5;28;01mraise\u001b[39;00m e\u001b[38;5;241m.\u001b[39mwith_traceback(filtered_tb) \u001b[38;5;28;01mfrom\u001b[39;00m \u001b[38;5;28mNone\u001b[39m\n\u001b[0;32m     71\u001b[0m \u001b[38;5;28;01mfinally\u001b[39;00m:\n\u001b[0;32m     72\u001b[0m     \u001b[38;5;28;01mdel\u001b[39;00m filtered_tb\n",
      "File \u001b[1;32m~\\.conda\\envs\\capstone\\lib\\site-packages\\tensorflow\\python\\eager\\execute.py:52\u001b[0m, in \u001b[0;36mquick_execute\u001b[1;34m(op_name, num_outputs, inputs, attrs, ctx, name)\u001b[0m\n\u001b[0;32m     50\u001b[0m \u001b[38;5;28;01mtry\u001b[39;00m:\n\u001b[0;32m     51\u001b[0m   ctx\u001b[38;5;241m.\u001b[39mensure_initialized()\n\u001b[1;32m---> 52\u001b[0m   tensors \u001b[38;5;241m=\u001b[39m pywrap_tfe\u001b[38;5;241m.\u001b[39mTFE_Py_Execute(ctx\u001b[38;5;241m.\u001b[39m_handle, device_name, op_name,\n\u001b[0;32m     53\u001b[0m                                       inputs, attrs, num_outputs)\n\u001b[0;32m     54\u001b[0m \u001b[38;5;28;01mexcept\u001b[39;00m core\u001b[38;5;241m.\u001b[39m_NotOkStatusException \u001b[38;5;28;01mas\u001b[39;00m e:\n\u001b[0;32m     55\u001b[0m   \u001b[38;5;28;01mif\u001b[39;00m name \u001b[38;5;129;01mis\u001b[39;00m \u001b[38;5;129;01mnot\u001b[39;00m \u001b[38;5;28;01mNone\u001b[39;00m:\n",
      "\u001b[1;31mInvalidArgumentError\u001b[0m: Graph execution error:\n\nDetected at node 'sequential/conv2d/Relu' defined at (most recent call last):\n    File \"C:\\Users\\kwarkmc\\.conda\\envs\\capstone\\lib\\runpy.py\", line 196, in _run_module_as_main\n      return _run_code(code, main_globals, None,\n    File \"C:\\Users\\kwarkmc\\.conda\\envs\\capstone\\lib\\runpy.py\", line 86, in _run_code\n      exec(code, run_globals)\n    File \"C:\\Users\\kwarkmc\\.conda\\envs\\capstone\\lib\\site-packages\\ipykernel_launcher.py\", line 17, in <module>\n      app.launch_new_instance()\n    File \"C:\\Users\\kwarkmc\\.conda\\envs\\capstone\\lib\\site-packages\\traitlets\\config\\application.py\", line 846, in launch_instance\n      app.start()\n    File \"C:\\Users\\kwarkmc\\.conda\\envs\\capstone\\lib\\site-packages\\ipykernel\\kernelapp.py\", line 712, in start\n      self.io_loop.start()\n    File \"C:\\Users\\kwarkmc\\.conda\\envs\\capstone\\lib\\site-packages\\tornado\\platform\\asyncio.py\", line 215, in start\n      self.asyncio_loop.run_forever()\n    File \"C:\\Users\\kwarkmc\\.conda\\envs\\capstone\\lib\\asyncio\\base_events.py\", line 603, in run_forever\n      self._run_once()\n    File \"C:\\Users\\kwarkmc\\.conda\\envs\\capstone\\lib\\asyncio\\base_events.py\", line 1899, in _run_once\n      handle._run()\n    File \"C:\\Users\\kwarkmc\\.conda\\envs\\capstone\\lib\\asyncio\\events.py\", line 80, in _run\n      self._context.run(self._callback, *self._args)\n    File \"C:\\Users\\kwarkmc\\.conda\\envs\\capstone\\lib\\site-packages\\ipykernel\\kernelbase.py\", line 510, in dispatch_queue\n      await self.process_one()\n    File \"C:\\Users\\kwarkmc\\.conda\\envs\\capstone\\lib\\site-packages\\ipykernel\\kernelbase.py\", line 499, in process_one\n      await dispatch(*args)\n    File \"C:\\Users\\kwarkmc\\.conda\\envs\\capstone\\lib\\site-packages\\ipykernel\\kernelbase.py\", line 406, in dispatch_shell\n      await result\n    File \"C:\\Users\\kwarkmc\\.conda\\envs\\capstone\\lib\\site-packages\\ipykernel\\kernelbase.py\", line 730, in execute_request\n      reply_content = await reply_content\n    File \"C:\\Users\\kwarkmc\\.conda\\envs\\capstone\\lib\\site-packages\\ipykernel\\ipkernel.py\", line 383, in do_execute\n      res = shell.run_cell(\n    File \"C:\\Users\\kwarkmc\\.conda\\envs\\capstone\\lib\\site-packages\\ipykernel\\zmqshell.py\", line 528, in run_cell\n      return super().run_cell(*args, **kwargs)\n    File \"C:\\Users\\kwarkmc\\.conda\\envs\\capstone\\lib\\site-packages\\IPython\\core\\interactiveshell.py\", line 2940, in run_cell\n      result = self._run_cell(\n    File \"C:\\Users\\kwarkmc\\.conda\\envs\\capstone\\lib\\site-packages\\IPython\\core\\interactiveshell.py\", line 2995, in _run_cell\n      return runner(coro)\n    File \"C:\\Users\\kwarkmc\\.conda\\envs\\capstone\\lib\\site-packages\\IPython\\core\\async_helpers.py\", line 129, in _pseudo_sync_runner\n      coro.send(None)\n    File \"C:\\Users\\kwarkmc\\.conda\\envs\\capstone\\lib\\site-packages\\IPython\\core\\interactiveshell.py\", line 3194, in run_cell_async\n      has_raised = await self.run_ast_nodes(code_ast.body, cell_name,\n    File \"C:\\Users\\kwarkmc\\.conda\\envs\\capstone\\lib\\site-packages\\IPython\\core\\interactiveshell.py\", line 3373, in run_ast_nodes\n      if await self.run_code(code, result, async_=asy):\n    File \"C:\\Users\\kwarkmc\\.conda\\envs\\capstone\\lib\\site-packages\\IPython\\core\\interactiveshell.py\", line 3433, in run_code\n      exec(code_obj, self.user_global_ns, self.user_ns)\n    File \"C:\\Users\\kwarkmc\\AppData\\Local\\Temp\\ipykernel_9908\\1647805615.py\", line 6, in <module>\n      TTE_Result = predict_pos_neg(\"input 입력할것\")\n    File \"C:\\Users\\kwarkmc\\AppData\\Local\\Temp\\ipykernel_9908\\3875805020.py\", line 6, in predict_pos_neg\n      score = float(model.predict(data))\n    File \"C:\\Users\\kwarkmc\\.conda\\envs\\capstone\\lib\\site-packages\\keras\\utils\\traceback_utils.py\", line 65, in error_handler\n      return fn(*args, **kwargs)\n    File \"C:\\Users\\kwarkmc\\.conda\\envs\\capstone\\lib\\site-packages\\keras\\engine\\training.py\", line 2350, in predict\n      tmp_batch_outputs = self.predict_function(iterator)\n    File \"C:\\Users\\kwarkmc\\.conda\\envs\\capstone\\lib\\site-packages\\keras\\engine\\training.py\", line 2137, in predict_function\n      return step_function(self, iterator)\n    File \"C:\\Users\\kwarkmc\\.conda\\envs\\capstone\\lib\\site-packages\\keras\\engine\\training.py\", line 2123, in step_function\n      outputs = model.distribute_strategy.run(run_step, args=(data,))\n    File \"C:\\Users\\kwarkmc\\.conda\\envs\\capstone\\lib\\site-packages\\keras\\engine\\training.py\", line 2111, in run_step\n      outputs = model.predict_step(data)\n    File \"C:\\Users\\kwarkmc\\.conda\\envs\\capstone\\lib\\site-packages\\keras\\engine\\training.py\", line 2079, in predict_step\n      return self(x, training=False)\n    File \"C:\\Users\\kwarkmc\\.conda\\envs\\capstone\\lib\\site-packages\\keras\\utils\\traceback_utils.py\", line 65, in error_handler\n      return fn(*args, **kwargs)\n    File \"C:\\Users\\kwarkmc\\.conda\\envs\\capstone\\lib\\site-packages\\keras\\engine\\training.py\", line 561, in __call__\n      return super().__call__(*args, **kwargs)\n    File \"C:\\Users\\kwarkmc\\.conda\\envs\\capstone\\lib\\site-packages\\keras\\utils\\traceback_utils.py\", line 65, in error_handler\n      return fn(*args, **kwargs)\n    File \"C:\\Users\\kwarkmc\\.conda\\envs\\capstone\\lib\\site-packages\\keras\\engine\\base_layer.py\", line 1132, in __call__\n      outputs = call_fn(inputs, *args, **kwargs)\n    File \"C:\\Users\\kwarkmc\\.conda\\envs\\capstone\\lib\\site-packages\\keras\\utils\\traceback_utils.py\", line 96, in error_handler\n      return fn(*args, **kwargs)\n    File \"C:\\Users\\kwarkmc\\.conda\\envs\\capstone\\lib\\site-packages\\keras\\engine\\sequential.py\", line 413, in call\n      return super().call(inputs, training=training, mask=mask)\n    File \"C:\\Users\\kwarkmc\\.conda\\envs\\capstone\\lib\\site-packages\\keras\\engine\\functional.py\", line 511, in call\n      return self._run_internal_graph(inputs, training=training, mask=mask)\n    File \"C:\\Users\\kwarkmc\\.conda\\envs\\capstone\\lib\\site-packages\\keras\\engine\\functional.py\", line 668, in _run_internal_graph\n      outputs = node.layer(*args, **kwargs)\n    File \"C:\\Users\\kwarkmc\\.conda\\envs\\capstone\\lib\\site-packages\\keras\\utils\\traceback_utils.py\", line 65, in error_handler\n      return fn(*args, **kwargs)\n    File \"C:\\Users\\kwarkmc\\.conda\\envs\\capstone\\lib\\site-packages\\keras\\engine\\base_layer.py\", line 1132, in __call__\n      outputs = call_fn(inputs, *args, **kwargs)\n    File \"C:\\Users\\kwarkmc\\.conda\\envs\\capstone\\lib\\site-packages\\keras\\utils\\traceback_utils.py\", line 96, in error_handler\n      return fn(*args, **kwargs)\n    File \"C:\\Users\\kwarkmc\\.conda\\envs\\capstone\\lib\\site-packages\\keras\\layers\\convolutional\\base_conv.py\", line 314, in call\n      return self.activation(outputs)\n    File \"C:\\Users\\kwarkmc\\.conda\\envs\\capstone\\lib\\site-packages\\keras\\activations.py\", line 317, in relu\n      return backend.relu(\n    File \"C:\\Users\\kwarkmc\\.conda\\envs\\capstone\\lib\\site-packages\\keras\\backend.py\", line 5369, in relu\n      x = tf.nn.relu(x)\nNode: 'sequential/conv2d/Relu'\nconvolution input must be 4-dimensional: [1,20000]\n\t [[{{node sequential/conv2d/Relu}}]] [Op:__inference_predict_function_458]"
     ]
    }
   ],
   "source": [
    "for filename in os.listdir(\"TXT/\"):\n",
    "    filename = normalize('NFC', filename)\n",
    "    try:\n",
    "        if '.txt' not in filename in filename:\n",
    "            continue\n",
    "        f = open(filename)\n",
    "        input_txt = f.read()\n",
    "        f.close()\n",
    "        TTE_Result = predict_pos_neg(input_txt)\n",
    "        TTE_Array.append(TTE_Result)\n",
    "    except Exception as e:\n",
    "        print(filename, e)\n",
    "        raise\n",
    "        \n",
    "    #TODO : _지호 입력 데이터의 형태(shape)나 타입(type)이 모델과 맞지 않는 경우, 모델의 파라미터나 하이퍼파라미터가 잘못 설정된 경우, 모델의 레이어나 옵티마이저가 호환되지 않는 경우\n",
    "    #오류 발생,,,"
   ]
  }
 ],
 "metadata": {
  "kernelspec": {
   "display_name": "Python 3 (ipykernel)",
   "language": "python",
   "name": "python3"
  },
  "language_info": {
   "codemirror_mode": {
    "name": "ipython",
    "version": 3
   },
   "file_extension": ".py",
   "mimetype": "text/x-python",
   "name": "python",
   "nbconvert_exporter": "python",
   "pygments_lexer": "ipython3",
   "version": "3.10.8"
  }
 },
 "nbformat": 4,
 "nbformat_minor": 5
}
