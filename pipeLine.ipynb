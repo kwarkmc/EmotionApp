{
 "cells": [
  {
   "cell_type": "code",
   "execution_count": 1,
   "id": "907c939d",
   "metadata": {},
   "outputs": [],
   "source": [
    "from keras.models import load_model\n",
    "\n",
    "import numpy as np\n",
    "import librosa\n",
    "import librosa.display\n",
    "import sklearn\n",
    "import matplotlib.pyplot as plt\n",
    "import speech_recognition as VTT\n",
    "from unicodedata import normalize\n",
    "import os\n",
    "import sys\n",
    "from tensorflow.keras.layers.experimental.preprocessing import TextVectorization\n",
    "import tensorflow as tf\n",
    "\n",
    "os.environ['TF_CPP_MIN_LOG_LEVEL'] = '2'"
   ]
  },
  {
   "cell_type": "code",
   "execution_count": 2,
   "id": "56343392",
   "metadata": {},
   "outputs": [],
   "source": [
    "pad2d = lambda a, i: a[:, 0:i] if a.shape[1] > i else np.hstack((a, np.zeros((a.shape[0], i-a.shape[1]))))"
   ]
  },
  {
   "cell_type": "code",
   "execution_count": 3,
   "id": "4ec87d17",
   "metadata": {},
   "outputs": [],
   "source": [
    "VTE_Array = []\n",
    "TTE_Array = []"
   ]
  },
  {
   "cell_type": "code",
   "execution_count": 4,
   "id": "1fc0340d",
   "metadata": {},
   "outputs": [],
   "source": [
    "CNN_model = load_model('weights/weight_result.h5')"
   ]
  },
  {
   "cell_type": "code",
   "execution_count": 5,
   "id": "5954aba3",
   "metadata": {},
   "outputs": [
    {
     "name": "stdout",
     "output_type": "stream",
     "text": [
      "1.wav\n"
     ]
    },
    {
     "name": "stderr",
     "output_type": "stream",
     "text": [
      "c:\\Users\\kwarkmc\\.conda\\envs\\capstone\\lib\\site-packages\\librosa\\util\\decorators.py:88: UserWarning: Empty filters detected in mel frequency basis. Some channels will produce empty responses. Try increasing your sampling rate (and fmax) or reducing n_mels.\n",
      "  return f(*args, **kwargs)\n",
      "c:\\Users\\kwarkmc\\.conda\\envs\\capstone\\lib\\site-packages\\sklearn\\preprocessing\\_data.py:239: UserWarning: Numerical issues were encountered when centering the data and might not be solved. Dataset may contain too large values. You may need to prescale your features.\n",
      "  warnings.warn(\n",
      "c:\\Users\\kwarkmc\\.conda\\envs\\capstone\\lib\\site-packages\\sklearn\\preprocessing\\_data.py:258: UserWarning: Numerical issues were encountered when scaling the data and might not be solved. The standard deviation of the data is probably very close to 0. \n",
      "  warnings.warn(\n"
     ]
    },
    {
     "name": "stdout",
     "output_type": "stream",
     "text": [
      "1/1 [==============================] - 0s 160ms/step\n",
      "10.wav\n",
      "1/1 [==============================] - 0s 34ms/step\n",
      "2.wav\n",
      "1/1 [==============================] - 0s 33ms/step\n"
     ]
    },
    {
     "name": "stderr",
     "output_type": "stream",
     "text": [
      "c:\\Users\\kwarkmc\\.conda\\envs\\capstone\\lib\\site-packages\\librosa\\util\\decorators.py:88: UserWarning: Empty filters detected in mel frequency basis. Some channels will produce empty responses. Try increasing your sampling rate (and fmax) or reducing n_mels.\n",
      "  return f(*args, **kwargs)\n",
      "c:\\Users\\kwarkmc\\.conda\\envs\\capstone\\lib\\site-packages\\sklearn\\preprocessing\\_data.py:239: UserWarning: Numerical issues were encountered when centering the data and might not be solved. Dataset may contain too large values. You may need to prescale your features.\n",
      "  warnings.warn(\n",
      "c:\\Users\\kwarkmc\\.conda\\envs\\capstone\\lib\\site-packages\\sklearn\\preprocessing\\_data.py:258: UserWarning: Numerical issues were encountered when scaling the data and might not be solved. The standard deviation of the data is probably very close to 0. \n",
      "  warnings.warn(\n",
      "c:\\Users\\kwarkmc\\.conda\\envs\\capstone\\lib\\site-packages\\librosa\\util\\decorators.py:88: UserWarning: Empty filters detected in mel frequency basis. Some channels will produce empty responses. Try increasing your sampling rate (and fmax) or reducing n_mels.\n",
      "  return f(*args, **kwargs)\n",
      "c:\\Users\\kwarkmc\\.conda\\envs\\capstone\\lib\\site-packages\\sklearn\\preprocessing\\_data.py:239: UserWarning: Numerical issues were encountered when centering the data and might not be solved. Dataset may contain too large values. You may need to prescale your features.\n",
      "  warnings.warn(\n",
      "c:\\Users\\kwarkmc\\.conda\\envs\\capstone\\lib\\site-packages\\sklearn\\preprocessing\\_data.py:258: UserWarning: Numerical issues were encountered when scaling the data and might not be solved. The standard deviation of the data is probably very close to 0. \n",
      "  warnings.warn(\n"
     ]
    },
    {
     "name": "stdout",
     "output_type": "stream",
     "text": [
      "3.wav\n",
      "1/1 [==============================] - 0s 35ms/step\n",
      "4.wav\n"
     ]
    },
    {
     "name": "stderr",
     "output_type": "stream",
     "text": [
      "c:\\Users\\kwarkmc\\.conda\\envs\\capstone\\lib\\site-packages\\librosa\\util\\decorators.py:88: UserWarning: Empty filters detected in mel frequency basis. Some channels will produce empty responses. Try increasing your sampling rate (and fmax) or reducing n_mels.\n",
      "  return f(*args, **kwargs)\n",
      "c:\\Users\\kwarkmc\\.conda\\envs\\capstone\\lib\\site-packages\\sklearn\\preprocessing\\_data.py:239: UserWarning: Numerical issues were encountered when centering the data and might not be solved. Dataset may contain too large values. You may need to prescale your features.\n",
      "  warnings.warn(\n",
      "c:\\Users\\kwarkmc\\.conda\\envs\\capstone\\lib\\site-packages\\sklearn\\preprocessing\\_data.py:258: UserWarning: Numerical issues were encountered when scaling the data and might not be solved. The standard deviation of the data is probably very close to 0. \n",
      "  warnings.warn(\n",
      "c:\\Users\\kwarkmc\\.conda\\envs\\capstone\\lib\\site-packages\\librosa\\util\\decorators.py:88: UserWarning: Empty filters detected in mel frequency basis. Some channels will produce empty responses. Try increasing your sampling rate (and fmax) or reducing n_mels.\n",
      "  return f(*args, **kwargs)\n",
      "c:\\Users\\kwarkmc\\.conda\\envs\\capstone\\lib\\site-packages\\sklearn\\preprocessing\\_data.py:239: UserWarning: Numerical issues were encountered when centering the data and might not be solved. Dataset may contain too large values. You may need to prescale your features.\n",
      "  warnings.warn(\n",
      "c:\\Users\\kwarkmc\\.conda\\envs\\capstone\\lib\\site-packages\\sklearn\\preprocessing\\_data.py:258: UserWarning: Numerical issues were encountered when scaling the data and might not be solved. The standard deviation of the data is probably very close to 0. \n",
      "  warnings.warn(\n"
     ]
    },
    {
     "name": "stdout",
     "output_type": "stream",
     "text": [
      "1/1 [==============================] - 0s 34ms/step\n",
      "5.wav\n",
      "1/1 [==============================] - 0s 37ms/step\n",
      "6.wav\n"
     ]
    },
    {
     "name": "stderr",
     "output_type": "stream",
     "text": [
      "c:\\Users\\kwarkmc\\.conda\\envs\\capstone\\lib\\site-packages\\librosa\\util\\decorators.py:88: UserWarning: Empty filters detected in mel frequency basis. Some channels will produce empty responses. Try increasing your sampling rate (and fmax) or reducing n_mels.\n",
      "  return f(*args, **kwargs)\n",
      "c:\\Users\\kwarkmc\\.conda\\envs\\capstone\\lib\\site-packages\\sklearn\\preprocessing\\_data.py:239: UserWarning: Numerical issues were encountered when centering the data and might not be solved. Dataset may contain too large values. You may need to prescale your features.\n",
      "  warnings.warn(\n",
      "c:\\Users\\kwarkmc\\.conda\\envs\\capstone\\lib\\site-packages\\sklearn\\preprocessing\\_data.py:258: UserWarning: Numerical issues were encountered when scaling the data and might not be solved. The standard deviation of the data is probably very close to 0. \n",
      "  warnings.warn(\n",
      "c:\\Users\\kwarkmc\\.conda\\envs\\capstone\\lib\\site-packages\\librosa\\util\\decorators.py:88: UserWarning: Empty filters detected in mel frequency basis. Some channels will produce empty responses. Try increasing your sampling rate (and fmax) or reducing n_mels.\n",
      "  return f(*args, **kwargs)\n",
      "c:\\Users\\kwarkmc\\.conda\\envs\\capstone\\lib\\site-packages\\sklearn\\preprocessing\\_data.py:239: UserWarning: Numerical issues were encountered when centering the data and might not be solved. Dataset may contain too large values. You may need to prescale your features.\n",
      "  warnings.warn(\n",
      "c:\\Users\\kwarkmc\\.conda\\envs\\capstone\\lib\\site-packages\\sklearn\\preprocessing\\_data.py:258: UserWarning: Numerical issues were encountered when scaling the data and might not be solved. The standard deviation of the data is probably very close to 0. \n",
      "  warnings.warn(\n"
     ]
    },
    {
     "name": "stdout",
     "output_type": "stream",
     "text": [
      "1/1 [==============================] - 0s 32ms/step\n",
      "7.wav\n",
      "1/1 [==============================] - 0s 34ms/step\n",
      "8.wav\n",
      "1/1 [==============================] - 0s 33ms/step\n"
     ]
    },
    {
     "name": "stderr",
     "output_type": "stream",
     "text": [
      "c:\\Users\\kwarkmc\\.conda\\envs\\capstone\\lib\\site-packages\\librosa\\util\\decorators.py:88: UserWarning: Empty filters detected in mel frequency basis. Some channels will produce empty responses. Try increasing your sampling rate (and fmax) or reducing n_mels.\n",
      "  return f(*args, **kwargs)\n",
      "c:\\Users\\kwarkmc\\.conda\\envs\\capstone\\lib\\site-packages\\sklearn\\preprocessing\\_data.py:239: UserWarning: Numerical issues were encountered when centering the data and might not be solved. Dataset may contain too large values. You may need to prescale your features.\n",
      "  warnings.warn(\n",
      "c:\\Users\\kwarkmc\\.conda\\envs\\capstone\\lib\\site-packages\\sklearn\\preprocessing\\_data.py:258: UserWarning: Numerical issues were encountered when scaling the data and might not be solved. The standard deviation of the data is probably very close to 0. \n",
      "  warnings.warn(\n",
      "c:\\Users\\kwarkmc\\.conda\\envs\\capstone\\lib\\site-packages\\librosa\\util\\decorators.py:88: UserWarning: Empty filters detected in mel frequency basis. Some channels will produce empty responses. Try increasing your sampling rate (and fmax) or reducing n_mels.\n",
      "  return f(*args, **kwargs)\n",
      "c:\\Users\\kwarkmc\\.conda\\envs\\capstone\\lib\\site-packages\\sklearn\\preprocessing\\_data.py:239: UserWarning: Numerical issues were encountered when centering the data and might not be solved. Dataset may contain too large values. You may need to prescale your features.\n",
      "  warnings.warn(\n",
      "c:\\Users\\kwarkmc\\.conda\\envs\\capstone\\lib\\site-packages\\sklearn\\preprocessing\\_data.py:258: UserWarning: Numerical issues were encountered when scaling the data and might not be solved. The standard deviation of the data is probably very close to 0. \n",
      "  warnings.warn(\n"
     ]
    },
    {
     "name": "stdout",
     "output_type": "stream",
     "text": [
      "9.wav\n",
      "1/1 [==============================] - 0s 33ms/step\n",
      "Sample1.wav\n",
      "1/1 [==============================] - ETA: 0s"
     ]
    },
    {
     "name": "stderr",
     "output_type": "stream",
     "text": [
      "c:\\Users\\kwarkmc\\.conda\\envs\\capstone\\lib\\site-packages\\librosa\\util\\decorators.py:88: UserWarning: Empty filters detected in mel frequency basis. Some channels will produce empty responses. Try increasing your sampling rate (and fmax) or reducing n_mels.\n",
      "  return f(*args, **kwargs)\n",
      "c:\\Users\\kwarkmc\\.conda\\envs\\capstone\\lib\\site-packages\\sklearn\\preprocessing\\_data.py:239: UserWarning: Numerical issues were encountered when centering the data and might not be solved. Dataset may contain too large values. You may need to prescale your features.\n",
      "  warnings.warn(\n",
      "c:\\Users\\kwarkmc\\.conda\\envs\\capstone\\lib\\site-packages\\sklearn\\preprocessing\\_data.py:258: UserWarning: Numerical issues were encountered when scaling the data and might not be solved. The standard deviation of the data is probably very close to 0. \n",
      "  warnings.warn(\n",
      "c:\\Users\\kwarkmc\\.conda\\envs\\capstone\\lib\\site-packages\\librosa\\util\\decorators.py:88: UserWarning: Empty filters detected in mel frequency basis. Some channels will produce empty responses. Try increasing your sampling rate (and fmax) or reducing n_mels.\n",
      "  return f(*args, **kwargs)\n",
      "c:\\Users\\kwarkmc\\.conda\\envs\\capstone\\lib\\site-packages\\sklearn\\preprocessing\\_data.py:239: UserWarning: Numerical issues were encountered when centering the data and might not be solved. Dataset may contain too large values. You may need to prescale your features.\n",
      "  warnings.warn(\n",
      "c:\\Users\\kwarkmc\\.conda\\envs\\capstone\\lib\\site-packages\\sklearn\\preprocessing\\_data.py:258: UserWarning: Numerical issues were encountered when scaling the data and might not be solved. The standard deviation of the data is probably very close to 0. \n",
      "  warnings.warn(\n"
     ]
    },
    {
     "name": "stdout",
     "output_type": "stream",
     "text": [
      "1/1 [==============================] - 0s 34ms/step\n",
      "Sample2.wav\n",
      "1/1 [==============================] - 0s 32ms/step\n"
     ]
    },
    {
     "name": "stderr",
     "output_type": "stream",
     "text": [
      "c:\\Users\\kwarkmc\\.conda\\envs\\capstone\\lib\\site-packages\\librosa\\util\\decorators.py:88: UserWarning: Empty filters detected in mel frequency basis. Some channels will produce empty responses. Try increasing your sampling rate (and fmax) or reducing n_mels.\n",
      "  return f(*args, **kwargs)\n",
      "c:\\Users\\kwarkmc\\.conda\\envs\\capstone\\lib\\site-packages\\sklearn\\preprocessing\\_data.py:239: UserWarning: Numerical issues were encountered when centering the data and might not be solved. Dataset may contain too large values. You may need to prescale your features.\n",
      "  warnings.warn(\n",
      "c:\\Users\\kwarkmc\\.conda\\envs\\capstone\\lib\\site-packages\\sklearn\\preprocessing\\_data.py:258: UserWarning: Numerical issues were encountered when scaling the data and might not be solved. The standard deviation of the data is probably very close to 0. \n",
      "  warnings.warn(\n"
     ]
    }
   ],
   "source": [
    "for filename in os.listdir(\"WAV/\"):\n",
    "    filename = normalize('NFC', filename)\n",
    "    try:\n",
    "        if '.wav' not in filename in filename:\n",
    "            continue\n",
    "        wav, sr = librosa.load(\"WAV/\" + filename, sr=None)\n",
    "        print(filename)\n",
    "        \n",
    "        mfcc = librosa.feature.mfcc(y=wav, sr=sr, n_mfcc=100, n_fft=400, hop_length=160)\n",
    "        mfcc = sklearn.preprocessing.scale(mfcc, axis=1)\n",
    "        padded_mfcc = pad2d(mfcc, 700)\n",
    "        padded_mfcc = np.expand_dims(padded_mfcc, 0)\n",
    "        \n",
    "        VTE_result = CNN_model.predict(padded_mfcc)\n",
    "        VTE_Array.append(VTE_result)\n",
    "    \n",
    "    except Exception as e:\n",
    "        print(filename, e)\n",
    "        raise"
   ]
  },
  {
   "cell_type": "code",
   "execution_count": 6,
   "id": "b984c46c",
   "metadata": {},
   "outputs": [
    {
     "name": "stdout",
     "output_type": "stream",
     "text": [
      "result2:\n",
      "[]\n",
      "Error processing file 1.wav: \n",
      "result2:\n",
      "{   'alternative': [   {   'confidence': 0.73548317,\n",
      "                           'transcript': '이게 무슨 소리야 소닉 하는데 다리가 왜 빨리 동지 보내라'},\n",
      "                       {'transcript': '그게 무슨 소리야 소닉 하는데 다리가 왜 빨리 동지 보내라'},\n",
      "                       {'transcript': '이게 무슨 소리야 소닉 하는데 다리가 왜 빨리 동지 내라'},\n",
      "                       {'transcript': '이게 무슨 소리야 소닉 하는데 다리가 왜 빨리 동지 해라'},\n",
      "                       {'transcript': '그게 무슨 소리야 소닉 하는데 다리가 왜 빨리 동지 내라'}],\n",
      "    'final': True}\n",
      "result2:\n",
      "{   'alternative': [   {   'confidence': 0.77771437,\n",
      "                           'transcript': '조금 그 자체가 아니라 소풍을 기다리는 마음에 있는 거'},\n",
      "                       {'transcript': '소풍 그 자체가 아니라 소풍을 기다리는 마음에 있는 거'},\n",
      "                       {'transcript': '적금 그 자체가 아니라 소풍을 기다리는 마음에 있는 거'},\n",
      "                       {'transcript': '소금 그 자체가 아니라 소풍을 기다리는 마음에 있는 거'},\n",
      "                       {'transcript': '저번 그 자체가 아니라 소풍을 기다리는 마음에 있는 거'}],\n",
      "    'final': True}\n",
      "result2:\n",
      "{   'alternative': [   {   'confidence': 0.75778317,\n",
      "                           'transcript': '저는 사랑하기 때문에 걱정을 갖다 드릴 수 없습니다'},\n",
      "                       {'transcript': '저는 지금 사랑하기 때문에 걱정을 갖다 드릴 수 없습니다'},\n",
      "                       {'transcript': '저는 사무실로 사랑하기 때문에 걱정을 갖다 드릴 수 없습니다'},\n",
      "                       {'transcript': '저는 4시로 사랑하기 때문에 걱정을 갖다 드릴 수 없습니다'},\n",
      "                       {'transcript': '저는 사랑하기 때문에 일정을 갖다 드릴 수 없습니다'}],\n",
      "    'final': True}\n",
      "result2:\n",
      "{   'alternative': [   {   'confidence': 0.81758142,\n",
      "                           'transcript': '아버지 뭐 하시나 뭐 하시나 아버지 뭐 하셔'},\n",
      "                       {'transcript': '아버지 뭐 하시나 뭐 해라 아버지 뭐 하셔'},\n",
      "                       {'transcript': '아버지 뭐 하시나 마셔라 아버지 뭐 하셔'},\n",
      "                       {'transcript': '아버지 뭐 하시나 뭐 현아 아버지 뭐 하셔'},\n",
      "                       {'transcript': '아버지 뭐 하시노 마셔라 아버지 뭐 하셔'}],\n",
      "    'final': True}\n",
      "result2:\n",
      "[]\n",
      "Error processing file 5.wav: \n",
      "result2:\n",
      "{   'alternative': [   {   'confidence': 0.88723743,\n",
      "                           'transcript': '형이 돈이 없다 그래서 105 말 안 듣는다 그래서 배웠던 새끼는 '\n",
      "                                         '얼굴이 기분 나빠 그래서 빼고 그렇게 형한테 맛있는 애들이 '\n",
      "                                         '사열종대 앉아 번으로 연병장 두 바퀴 다'},\n",
      "                       {   'transcript': '형이 돈이 없다 그래서 105 말 안 듣는다 그래서 배웠던 새끼는 '\n",
      "                                         '얼굴이 기분 나빠 그래서 빼고 그렇게 형한테 맛있는 애들이 '\n",
      "                                         '4열종대 앉아 번으로 연병장 두 바퀴 다'},\n",
      "                       {   'transcript': '형이 돈이 없다 그래서 105 말 안 듣는다 그래서 배웠던 새끼는 '\n",
      "                                         '얼굴이 기분 나빠 그래서 빼고 그렇게 형한테 마시는 애들이 '\n",
      "                                         '4열종대 앉아 번으로 연병장 두 바퀴 다'},\n",
      "                       {   'transcript': '형이 돈이 없다 그래서 105 말 안 듣는다 그래서 배웠던 새끼는 '\n",
      "                                         '얼굴이 기분 나빠 그래서 빼고 그렇게 형한테 마시는 애들이 '\n",
      "                                         '사열종대 앉아 번으로 연병장 두 바퀴 다'},\n",
      "                       {   'transcript': '형이 돈이 없다 그래서 백업 말 안 듣는다 그래서 배웠던 새끼는 '\n",
      "                                         '얼굴이 기분 나빠 그래서 빼고 그렇게 형한테 마시는 애들이 '\n",
      "                                         '4열종대 앉아 번으로 연병장 두 바퀴 다'}],\n",
      "    'final': True}\n",
      "result2:\n",
      "{   'alternative': [   {   'confidence': 0.92365956,\n",
      "                           'transcript': '공무원이 전화를 안 받아'},\n",
      "                       {'transcript': '알람 공무원이 전화를 안 받아'},\n",
      "                       {'transcript': '공문이 전화를 안 받아'},\n",
      "                       {'transcript': '공무원의 전화를 안 받아'},\n",
      "                       {'transcript': '공구리 전화를 안 받아'}],\n",
      "    'final': True}\n",
      "result2:\n",
      "{   'alternative': [   {   'confidence': 0.58556354,\n",
      "                           'transcript': '빨리 나와 씨발놈아 역삼 옥상 올라와'},\n",
      "                       {'transcript': '멀리 나와 씨발놈아 역삼역 잘해 옥상으로 올라와'},\n",
      "                       {'transcript': '논리 나와 씨발놈아 역삼 옥상 올라와'},\n",
      "                       {'transcript': '빨리 나와 씨발놈아 역삼역 잘해 옥상으로 올라와'},\n",
      "                       {'transcript': '놀리 나와 씨발놈아 역삼역 잘해 옥상으로 올라와'}],\n",
      "    'final': True}\n",
      "result2:\n",
      "{   'alternative': [   {   'confidence': 0.73917025,\n",
      "                           'transcript': '간만에 와서 밥 먹고 다녀'},\n",
      "                       {'transcript': '간만에 와서 밥 먹고'},\n",
      "                       {'transcript': '간만에 와서 밥 먹고 자'},\n",
      "                       {'transcript': '주말에 와서 밥 먹고 다녀'},\n",
      "                       {'transcript': '간만에 와'}],\n",
      "    'final': True}\n",
      "result2:\n",
      "{   'alternative': [   {   'confidence': 0.82105625,\n",
      "                           'transcript': '얼굴은 화끈 화끈 하고 가슴이 무서워 하는 사람처럼 뛰어 '\n",
      "                                         '놀았습니다'},\n",
      "                       {'transcript': '얼굴은 화끈 화끈 하고 가슴이 무서워하는 사람처럼 뛰어 놀았습니다'},\n",
      "                       {'transcript': '얼굴은 화끈화끈 하고 가슴이 무서워 하는 사람처럼 뛰어 놀았습니다'},\n",
      "                       {'transcript': '얼굴은 화끈화끈 하고 가슴이 무서워하는 사람처럼 뛰어 놀았습니다'},\n",
      "                       {'transcript': '얼굴은 화끈 화끈 하고 가슴이 무서워 하는 사람처럼 띠 놀았습니다'}],\n",
      "    'final': True}\n",
      "result2:\n",
      "{   'alternative': [   {   'confidence': 0.8971411,\n",
      "                           'transcript': '엿장수는 숟가락과 여탄 주먹을 바꿔주었다'},\n",
      "                       {'transcript': '엿장수는 숟가락과 여탕 주먹을 바꿔주었다'},\n",
      "                       {'transcript': '엿장수는 숟가락과 여타 주먹을 바꿔주었다'},\n",
      "                       {'transcript': '엿장수는 숟가락과 연탄 주먹을 바꿔주었다'},\n",
      "                       {'transcript': '엿장수는 숟가락과 여탐 주먹을 바꿔주었다'}],\n",
      "    'final': True}\n"
     ]
    }
   ],
   "source": [
    "if not os.path.exists('TXT'):\n",
    "    os.makedirs('TXT')\n",
    "\n",
    "for filename in os.listdir(\"WAV/\"):\n",
    "    if not filename.endswith('.wav'):\n",
    "        continue\n",
    "    \n",
    "    filename = normalize('NFC', filename)\n",
    "    try:\n",
    "        r = VTT.Recognizer()\n",
    "        kr_audio = VTT.AudioFile(\"WAV/\" + filename)\n",
    "        with kr_audio as source:\n",
    "            VTT_audio = r.record(source)\n",
    "            \n",
    "        temp = r.recognize_google(VTT_audio, language='ko-KR')\n",
    "        \n",
    "        # Get the file name without extension\n",
    "        name = os.path.splitext(filename)[0]\n",
    "        with open(\"TXT/\" + str(name) + 'out.txt', 'w') as f:\n",
    "            first_line = temp.split('\\n')[0]\n",
    "            print(first_line, file=f)\n",
    "            \n",
    "    except Exception as e:\n",
    "        print(f\"Error processing file {filename}: {str(e)}\")"
   ]
  },
  {
   "cell_type": "code",
   "execution_count": 7,
   "id": "f3f62508",
   "metadata": {},
   "outputs": [],
   "source": [
    "rnn_model = tf.keras.models.load_model(\"weights/model_04\", custom_objects={\"TextVectorization\":TextVectorization})"
   ]
  },
  {
   "cell_type": "code",
   "execution_count": 8,
   "id": "02acd127",
   "metadata": {},
   "outputs": [
    {
     "name": "stdout",
     "output_type": "stream",
     "text": [
      "1/1 [==============================] - 0s 88ms/step\n",
      "1/1 [==============================] - 0s 30ms/step\n",
      "1/1 [==============================] - 0s 32ms/step\n",
      "1/1 [==============================] - 0s 28ms/step\n",
      "1/1 [==============================] - 0s 41ms/step\n",
      "1/1 [==============================] - 0s 30ms/step\n",
      "1/1 [==============================] - 0s 30ms/step\n",
      "1/1 [==============================] - 0s 30ms/step\n",
      "1/1 [==============================] - 0s 30ms/step\n",
      "1/1 [==============================] - 0s 30ms/step\n"
     ]
    }
   ],
   "source": [
    "for filename in os.listdir(\"TXT/\"):\n",
    "    filename = normalize('NFC', filename)\n",
    "    try:\n",
    "        if '.txt' not in filename in filename:\n",
    "            continue\n",
    "        f = open('TXT/' + filename)\n",
    "        input_txt = f.read().strip()\n",
    "        f.close()\n",
    "        \n",
    "        emotion = float(rnn_model.predict([input_txt]))\n",
    "        TTE_Array.append(emotion)\n",
    "        \n",
    "    except Exception as e:\n",
    "        print(filename, e)\n",
    "        raise"
   ]
  },
  {
   "cell_type": "code",
   "execution_count": 9,
   "id": "f91926fd",
   "metadata": {},
   "outputs": [
    {
     "data": {
      "text/plain": [
       "[0.5157862901687622,\n",
       " 0.9937041997909546,\n",
       " 0.2581300139427185,\n",
       " 0.09714675694704056,\n",
       " 0.2513967752456665,\n",
       " 0.1110723540186882,\n",
       " 0.39509114623069763,\n",
       " 0.11372609436511993,\n",
       " 0.3875333368778229,\n",
       " 0.43533846735954285]"
      ]
     },
     "execution_count": 9,
     "metadata": {},
     "output_type": "execute_result"
    }
   ],
   "source": [
    "TTE_Array"
   ]
  },
  {
   "cell_type": "code",
   "execution_count": 10,
   "id": "439bab9b",
   "metadata": {},
   "outputs": [
    {
     "data": {
      "text/plain": [
       "[array([[0.5, 0.5]], dtype=float32),\n",
       " array([[0.5, 0.5]], dtype=float32),\n",
       " array([[0.5, 0.5]], dtype=float32),\n",
       " array([[0.5, 0.5]], dtype=float32),\n",
       " array([[0.5, 0.5]], dtype=float32),\n",
       " array([[0.5, 0.5]], dtype=float32),\n",
       " array([[0.5, 0.5]], dtype=float32),\n",
       " array([[0.5, 0.5]], dtype=float32),\n",
       " array([[0.5, 0.5]], dtype=float32),\n",
       " array([[0.5, 0.5]], dtype=float32),\n",
       " array([[0.5, 0.5]], dtype=float32),\n",
       " array([[0.5, 0.5]], dtype=float32)]"
      ]
     },
     "execution_count": 10,
     "metadata": {},
     "output_type": "execute_result"
    }
   ],
   "source": [
    "VTE_Array"
   ]
  },
  {
   "cell_type": "code",
   "execution_count": null,
   "id": "81d1b909",
   "metadata": {},
   "outputs": [],
   "source": []
  }
 ],
 "metadata": {
  "kernelspec": {
   "display_name": "Python 3 (ipykernel)",
   "language": "python",
   "name": "python3"
  },
  "language_info": {
   "codemirror_mode": {
    "name": "ipython",
    "version": 3
   },
   "file_extension": ".py",
   "mimetype": "text/x-python",
   "name": "python",
   "nbconvert_exporter": "python",
   "pygments_lexer": "ipython3",
   "version": "3.10.8"
  }
 },
 "nbformat": 4,
 "nbformat_minor": 5
}
