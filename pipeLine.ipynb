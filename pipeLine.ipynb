{
 "cells": [
  {
   "cell_type": "code",
   "execution_count": 1,
   "id": "40339dae",
   "metadata": {},
   "outputs": [],
   "source": [
    "from keras.models import load_model\n",
    "\n",
    "import numpy as np\n",
    "import librosa\n",
    "import librosa.display\n",
    "import sklearn\n",
    "import matplotlib.pyplot as plt\n",
    "import speech_recognition as VTT\n",
    "from unicodedata import normalize\n",
    "import os\n",
    "import sys\n",
    "from tensorflow.keras.layers.experimental.preprocessing import TextVectorization\n",
    "import tensorflow as tf\n",
    "\n",
    "os.environ['TF_CPP_MIN_LOG_LEVEL'] = '2'"
   ]
  },
  {
   "cell_type": "code",
   "execution_count": 2,
   "id": "da38b3f6",
   "metadata": {},
   "outputs": [],
   "source": [
    "pad2d = lambda a, i: a[:, 0:i] if a.shape[1] > i else np.hstack((a, np.zeros((a.shape[0], i-a.shape[1]))))"
   ]
  },
  {
   "cell_type": "code",
   "execution_count": 3,
   "id": "7114a400",
   "metadata": {},
   "outputs": [],
   "source": [
    "VTE_Array = []\n",
    "TTE_Array = []"
   ]
  },
  {
   "cell_type": "code",
   "execution_count": 5,
   "id": "9b4414fe",
   "metadata": {},
   "outputs": [],
   "source": [
    "CNN_model = load_model('weight.h5')"
   ]
  },
  {
   "cell_type": "code",
   "execution_count": 7,
   "id": "0804b2c4",
   "metadata": {},
   "outputs": [
    {
     "name": "stdout",
     "output_type": "stream",
     "text": [
      "Sample1.wav\n",
      "1/1 [==============================] - 0s 72ms/step\n"
     ]
    },
    {
     "name": "stderr",
     "output_type": "stream",
     "text": [
      "C:\\Users\\kwarkmc\\.conda\\envs\\capstone\\lib\\site-packages\\librosa\\util\\decorators.py:88: UserWarning: Empty filters detected in mel frequency basis. Some channels will produce empty responses. Try increasing your sampling rate (and fmax) or reducing n_mels.\n",
      "  return f(*args, **kwargs)\n",
      "C:\\Users\\kwarkmc\\.conda\\envs\\capstone\\lib\\site-packages\\sklearn\\preprocessing\\_data.py:239: UserWarning: Numerical issues were encountered when centering the data and might not be solved. Dataset may contain too large values. You may need to prescale your features.\n",
      "  warnings.warn(\n",
      "C:\\Users\\kwarkmc\\.conda\\envs\\capstone\\lib\\site-packages\\sklearn\\preprocessing\\_data.py:258: UserWarning: Numerical issues were encountered when scaling the data and might not be solved. The standard deviation of the data is probably very close to 0. \n",
      "  warnings.warn(\n"
     ]
    },
    {
     "name": "stdout",
     "output_type": "stream",
     "text": [
      "Sample2.wav\n",
      "1/1 [==============================] - 0s 72ms/step\n"
     ]
    },
    {
     "name": "stderr",
     "output_type": "stream",
     "text": [
      "C:\\Users\\kwarkmc\\.conda\\envs\\capstone\\lib\\site-packages\\librosa\\util\\decorators.py:88: UserWarning: Empty filters detected in mel frequency basis. Some channels will produce empty responses. Try increasing your sampling rate (and fmax) or reducing n_mels.\n",
      "  return f(*args, **kwargs)\n",
      "C:\\Users\\kwarkmc\\.conda\\envs\\capstone\\lib\\site-packages\\sklearn\\preprocessing\\_data.py:239: UserWarning: Numerical issues were encountered when centering the data and might not be solved. Dataset may contain too large values. You may need to prescale your features.\n",
      "  warnings.warn(\n",
      "C:\\Users\\kwarkmc\\.conda\\envs\\capstone\\lib\\site-packages\\sklearn\\preprocessing\\_data.py:258: UserWarning: Numerical issues were encountered when scaling the data and might not be solved. The standard deviation of the data is probably very close to 0. \n",
      "  warnings.warn(\n"
     ]
    }
   ],
   "source": [
    "for filename in os.listdir(\"WAV/\"):\n",
    "    filename = normalize('NFC', filename)\n",
    "    try:\n",
    "        if '.wav' not in filename in filename:\n",
    "            continue\n",
    "        wav, sr = librosa.load(\"WAV/\" + filename, sr=None)\n",
    "        print(filename)\n",
    "        \n",
    "        mfcc = librosa.feature.mfcc(y=wav, sr=sr, n_mfcc=100, n_fft=400, hop_length=160)\n",
    "        mfcc = sklearn.preprocessing.scale(mfcc, axis=1)\n",
    "        padded_mfcc = pad2d(mfcc, 700)\n",
    "        padded_mfcc = np.expand_dims(padded_mfcc, 0)\n",
    "        \n",
    "        VTE_result = CNN_model.predict(padded_mfcc)\n",
    "        VTE_Array.append(VTE_result)\n",
    "    \n",
    "    except Exception as e:\n",
    "        print(filename, e)\n",
    "        raise"
   ]
  },
  {
   "cell_type": "code",
   "execution_count": 8,
   "id": "e6f575be",
   "metadata": {},
   "outputs": [
    {
     "name": "stdout",
     "output_type": "stream",
     "text": [
      "result2:\n",
      "{   'alternative': [   {   'confidence': 0.82105637,\n",
      "                           'transcript': '얼굴은 화끈 화끈 하고 가슴이 무서워 하는 사람처럼 뛰어 '\n",
      "                                         '놀았습니다'},\n",
      "                       {'transcript': '얼굴은 화끈 화끈 하고 가슴이 무서워하는 사람처럼 뛰어 놀았습니다'},\n",
      "                       {'transcript': '얼굴은 화끈화끈 하고 가슴이 무서워 하는 사람처럼 뛰어 놀았습니다'},\n",
      "                       {'transcript': '얼굴은 화끈화끈 하고 가슴이 무서워하는 사람처럼 뛰어 놀았습니다'},\n",
      "                       {'transcript': '얼굴은 화끈 화끈 하고 가슴이 무서워 하는 사람처럼 띠 놀았습니다'}],\n",
      "    'final': True}\n",
      "result2:\n",
      "{   'alternative': [   {   'confidence': 0.8971411,\n",
      "                           'transcript': '엿장수는 숟가락과 여탄 주먹을 바꿔주었다'},\n",
      "                       {'transcript': '엿장수는 숟가락과 여탕 주먹을 바꿔주었다'},\n",
      "                       {'transcript': '엿장수는 숟가락과 여타 주먹을 바꿔주었다'},\n",
      "                       {'transcript': '엿장수는 숟가락과 연탄 주먹을 바꿔주었다'},\n",
      "                       {'transcript': '엿장수는 숟가락과 여탐 주먹을 바꿔주었다'}],\n",
      "    'final': True}\n"
     ]
    }
   ],
   "source": [
    "if not os.path.exists('TXT'):\n",
    "    os.makedirs('TXT')\n",
    "\n",
    "for filename in os.listdir(\"WAV/\"):\n",
    "    if not filename.endswith('.wav'):\n",
    "        continue\n",
    "    \n",
    "    filename = normalize('NFC', filename)\n",
    "    try:\n",
    "        r = VTT.Recognizer()\n",
    "        kr_audio = VTT.AudioFile(\"WAV/\" + filename)\n",
    "        with kr_audio as source:\n",
    "            VTT_audio = r.record(source)\n",
    "            \n",
    "        temp = r.recognize_google(VTT_audio, language='ko-KR')\n",
    "        \n",
    "        # Get the file name without extension\n",
    "        name = os.path.splitext(filename)[0]\n",
    "        with open(\"TXT/\" + str(name) + 'out.txt', 'w') as f:\n",
    "            first_line = temp.split('\\n')[0]\n",
    "            print(first_line, file=f)\n",
    "            \n",
    "    except Exception as e:\n",
    "        print(f\"Error processing file {filename}: {str(e)}\")"
   ]
  },
  {
   "cell_type": "code",
   "execution_count": 18,
   "id": "8064a9d9",
   "metadata": {},
   "outputs": [],
   "source": [
    "rnn_model = tf.keras.models.load_model(\"./WtoE\", custom_objects={\"TextVectorization\":TextVectorization})"
   ]
  },
  {
   "cell_type": "code",
   "execution_count": 22,
   "id": "21ad1d89",
   "metadata": {},
   "outputs": [
    {
     "name": "stdout",
     "output_type": "stream",
     "text": [
      "1/1 [==============================] - 0s 76ms/step\n",
      "1/1 [==============================] - 0s 72ms/step\n"
     ]
    }
   ],
   "source": [
    "for filename in os.listdir(\"TXT/\"):\n",
    "    filename = normalize('NFC', filename)\n",
    "    try:\n",
    "        if '.txt' not in filename in filename:\n",
    "            continue\n",
    "        f = open('TXT/' + filename)\n",
    "        input_txt = f.read().strip()\n",
    "        f.close()\n",
    "        \n",
    "        emotion = float(rnn_model.predict([input_txt]))\n",
    "        TTE_Array.append(emotion)\n",
    "        \n",
    "    except Exception as e:\n",
    "        print(filename, e)\n",
    "        raise"
   ]
  },
  {
   "cell_type": "code",
   "execution_count": 23,
   "id": "e47f7e5c",
   "metadata": {},
   "outputs": [
    {
     "name": "stdout",
     "output_type": "stream",
     "text": [
      "[array([[0.744904]], dtype=float32), array([[0.744904]], dtype=float32), array([[0.744904]], dtype=float32), array([[0.744904]], dtype=float32), 0.011249206028878689, 0.5051031708717346]\n"
     ]
    }
   ],
   "source": [
    "print(TTE_Array)"
   ]
  }
 ],
 "metadata": {
  "kernelspec": {
   "display_name": "Python 3 (ipykernel)",
   "language": "python",
   "name": "python3"
  },
  "language_info": {
   "codemirror_mode": {
    "name": "ipython",
    "version": 3
   },
   "file_extension": ".py",
   "mimetype": "text/x-python",
   "name": "python",
   "nbconvert_exporter": "python",
   "pygments_lexer": "ipython3",
   "version": "3.10.8"
  }
 },
 "nbformat": 4,
 "nbformat_minor": 5
}
