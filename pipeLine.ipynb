{
 "cells": [
  {
   "cell_type": "code",
   "execution_count": null,
   "id": "907c939d",
   "metadata": {},
   "outputs": [],
   "source": [
    "from keras.models import load_model\n",
    "\n",
    "import numpy as np\n",
    "import librosa\n",
    "import librosa.display\n",
    "import sklearn\n",
    "import matplotlib.pyplot as plt\n",
    "import speech_recognition as VTT\n",
    "from unicodedata import normalize\n",
    "import os\n",
    "import sys\n",
    "from tensorflow.keras.layers.experimental.preprocessing import TextVectorization\n",
    "import tensorflow as tf\n",
    "\n",
    "os.environ['TF_CPP_MIN_LOG_LEVEL'] = '2'"
   ]
  },
  {
   "cell_type": "code",
   "execution_count": null,
   "id": "56343392",
   "metadata": {},
   "outputs": [],
   "source": [
    "pad2d = lambda a, i: a[:, 0:i] if a.shape[1] > i else np.hstack((a, np.zeros((a.shape[0], i-a.shape[1]))))"
   ]
  },
  {
   "cell_type": "code",
   "execution_count": null,
   "id": "4ec87d17",
   "metadata": {},
   "outputs": [],
   "source": [
    "VTE_Array = []\n",
    "TTE_Array = []"
   ]
  },
  {
   "cell_type": "code",
   "execution_count": null,
   "id": "1fc0340d",
   "metadata": {},
   "outputs": [],
   "source": [
    "CNN_model = load_model('weight.h5')"
   ]
  },
  {
   "cell_type": "code",
   "execution_count": null,
   "id": "5954aba3",
   "metadata": {},
   "outputs": [],
   "source": [
    "for filename in os.listdir(\"WAV/\"):\n",
    "    filename = normalize('NFC', filename)\n",
    "    try:\n",
    "        if '.wav' not in filename in filename:\n",
    "            continue\n",
    "        wav, sr = librosa.load(\"WAV/\" + filename, sr=None)\n",
    "        print(filename)\n",
    "        \n",
    "        mfcc = librosa.feature.mfcc(y=wav, sr=sr, n_mfcc=100, n_fft=400, hop_length=160)\n",
    "        mfcc = sklearn.preprocessing.scale(mfcc, axis=1)\n",
    "        padded_mfcc = pad2d(mfcc, 700)\n",
    "        padded_mfcc = np.expand_dims(padded_mfcc, 0)\n",
    "        \n",
    "        VTE_result = CNN_model.predict(padded_mfcc)\n",
    "        VTE_Array.append(VTE_result)\n",
    "    \n",
    "    except Exception as e:\n",
    "        print(filename, e)\n",
    "        raise"
   ]
  },
  {
   "cell_type": "code",
   "execution_count": null,
   "id": "b984c46c",
   "metadata": {},
   "outputs": [],
   "source": [
    "if not os.path.exists('TXT'):\n",
    "    os.makedirs('TXT')\n",
    "\n",
    "for filename in os.listdir(\"WAV/\"):\n",
    "    if not filename.endswith('.wav'):\n",
    "        continue\n",
    "    \n",
    "    filename = normalize('NFC', filename)\n",
    "    try:\n",
    "        r = VTT.Recognizer()\n",
    "        kr_audio = VTT.AudioFile(\"WAV/\" + filename)\n",
    "        with kr_audio as source:\n",
    "            VTT_audio = r.record(source)\n",
    "            \n",
    "        temp = r.recognize_google(VTT_audio, language='ko-KR')\n",
    "        \n",
    "        # Get the file name without extension\n",
    "        name = os.path.splitext(filename)[0]\n",
    "        with open(\"TXT/\" + str(name) + 'out.txt', 'w') as f:\n",
    "            first_line = temp.split('\\n')[0]\n",
    "            print(first_line, file=f)\n",
    "            \n",
    "    except Exception as e:\n",
    "        print(f\"Error processing file {filename}: {str(e)}\")"
   ]
  },
  {
   "cell_type": "code",
   "execution_count": null,
   "id": "f3f62508",
   "metadata": {},
   "outputs": [],
   "source": [
    "rnn_model = tf.keras.models.load_model(\"./WtoE\", custom_objects={\"TextVectorization\":TextVectorization})"
   ]
  },
  {
   "cell_type": "code",
   "execution_count": null,
   "id": "02acd127",
   "metadata": {},
   "outputs": [],
   "source": [
    "for filename in os.listdir(\"TXT/\"):\n",
    "    filename = normalize('NFC', filename)\n",
    "    try:\n",
    "        if '.txt' not in filename in filename:\n",
    "            continue\n",
    "        f = open('TXT/' + filename)\n",
    "        input_txt = f.read().strip()\n",
    "        f.close()\n",
    "        \n",
    "        emotion = float(rnn_model.predict([input_txt]))\n",
    "        TTE_Array.append(emotion)\n",
    "        \n",
    "    except Exception as e:\n",
    "        print(filename, e)\n",
    "        raise"
   ]
  },
  {
   "cell_type": "code",
   "execution_count": null,
   "id": "f91926fd",
   "metadata": {},
   "outputs": [],
   "source": [
    "TTE_Array"
   ]
  }
 ],
 "metadata": {
  "kernelspec": {
   "display_name": "Python 3 (ipykernel)",
   "language": "python",
   "name": "python3"
  },
  "language_info": {
   "codemirror_mode": {
    "name": "ipython",
    "version": 3
   },
   "file_extension": ".py",
   "mimetype": "text/x-python",
   "name": "python",
   "nbconvert_exporter": "python",
   "pygments_lexer": "ipython3",
   "version": "3.10.8"
  }
 },
 "nbformat": 4,
 "nbformat_minor": 5
}
