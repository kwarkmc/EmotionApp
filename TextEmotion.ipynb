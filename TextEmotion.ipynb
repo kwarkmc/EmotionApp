{
 "cells": [
  {
   "cell_type": "code",
   "execution_count": 1,
   "id": "54c79de6",
   "metadata": {},
   "outputs": [],
   "source": [
    "import json\n",
    "import os\n",
    "os.environ['TF_CPP_MIN_LOG_LEVEL'] = '2'\n",
    "import numpy as np\n",
    "from tensorflow.keras import models, layers, optimizers, losses, metrics\n",
    "import tensorflow as tf\n",
    "from tensorflow.keras.preprocessing.sequence import pad_sequences\n",
    "import csv\n",
    "import pandas as pd\n",
    "from tensorflow.keras.layers import Dense, Embedding, Flatten\n",
    "from tensorflow.keras import Input, Model\n",
    "from sklearn.model_selection import train_test_split\n",
    "from tensorflow.keras.models import Sequential\n",
    "from tensorflow.keras.layers.experimental.preprocessing import TextVectorization\n",
    "from tensorflow.python.keras.callbacks import TensorBoard\n",
    "from time import time\n",
    "from keras.callbacks import EarlyStopping, ModelCheckpoint"
   ]
  },
  {
   "cell_type": "code",
   "execution_count": 2,
   "id": "b95fc04d",
   "metadata": {},
   "outputs": [],
   "source": [
    "x, y = [], []\n",
    "file1 = \"./comment-labeling.csv\"\n",
    "file2 = \"./naver-ratings.csv\""
   ]
  },
  {
   "cell_type": "code",
   "execution_count": 3,
   "id": "4bbe8f85",
   "metadata": {},
   "outputs": [],
   "source": [
    "f = open(file1, 'r', encoding='utf-8')\n",
    "read = csv.reader(f)\n",
    "for line in read:\n",
    "    emotion = float(line[-1])\n",
    "    x.append(line[0])\n",
    "    y.append(emotion)\n",
    "    \n",
    "f.close()"
   ]
  },
  {
   "cell_type": "code",
   "execution_count": 4,
   "id": "b3c95515",
   "metadata": {},
   "outputs": [],
   "source": [
    "x2, y2 = [], []\n",
    "f = open(file2, 'r', encoding='utf-8')\n",
    "read = csv.reader(f)\n",
    "for line in read:\n",
    "    emotion = float(line[-1])\n",
    "    y2.append(emotion)\n",
    "    x2.append(line[0])\n",
    "    \n",
    "f.close()"
   ]
  },
  {
   "cell_type": "code",
   "execution_count": 5,
   "id": "a6575286",
   "metadata": {},
   "outputs": [],
   "source": [
    "test_percent = 0.2"
   ]
  },
  {
   "cell_type": "code",
   "execution_count": 6,
   "id": "0645ec4e",
   "metadata": {},
   "outputs": [],
   "source": [
    "x_train, x_test, y_train, y_test = train_test_split(x, y, test_size=test_percent)\n",
    "a, b, c, d = train_test_split(x2, y2, test_size=test_percent)"
   ]
  },
  {
   "cell_type": "code",
   "execution_count": 7,
   "id": "312b5365",
   "metadata": {},
   "outputs": [],
   "source": [
    "x_train += a\n",
    "x_test += b\n",
    "y_train += c\n",
    "y_test += d"
   ]
  },
  {
   "cell_type": "code",
   "execution_count": 8,
   "id": "571b90df",
   "metadata": {},
   "outputs": [],
   "source": [
    "def build_model(train_data):\n",
    "    train_data = tf.data.Dataset.from_tensor_slices(train_data)\n",
    "    model = Sequential()\n",
    "    model.add(Input(shape=(1,), dtype=\"string\"))\n",
    "    max_tokens = 15000\n",
    "    max_len = 50\n",
    "    vectorize_layer = TextVectorization(\n",
    "        max_tokens=max_tokens,\n",
    "        output_mode=\"int\",\n",
    "        output_sequence_length=max_len\n",
    "    )\n",
    "    \n",
    "    vectorize_layer.adapt(train_data.batch(64))\n",
    "    model.add(vectorize_layer)\n",
    "    model.add(layers.Embedding(max_tokens + 1, output_dim=200))\n",
    "    model.add(Flatten())\n",
    "    model.add(Dense(8, activation=\"relu\"))\n",
    "    model.add(Dense(1, activation=\"sigmoid\"))\n",
    "    return model"
   ]
  },
  {
   "cell_type": "code",
   "execution_count": 9,
   "id": "d8f1c8ff",
   "metadata": {},
   "outputs": [],
   "source": [
    "tf.config.experimental_enable_xla=True"
   ]
  },
  {
   "cell_type": "code",
   "execution_count": 15,
   "id": "35120b1c",
   "metadata": {},
   "outputs": [],
   "source": [
    "tensorboard = TensorBoard(log_dir=\"logs/{}\".format(time()))\n",
    "early_stop = EarlyStopping(monitor='val_loss', patience=3)\n",
    "checkpoint = ModelCheckpoint(filepath='model_{epoch:02d}', save_format='tf', monitor='val_accuracy', save_best_only=False)"
   ]
  },
  {
   "cell_type": "code",
   "execution_count": 16,
   "id": "90cd2f26",
   "metadata": {},
   "outputs": [],
   "source": [
    "rnn_model = build_model(x_train)\n",
    "rnn_model.compile(\n",
    "    optimizer=\"adam\",\n",
    "    loss='binary_crossentropy',\n",
    "    metrics=['accuracy']\n",
    ")"
   ]
  },
  {
   "cell_type": "code",
   "execution_count": 17,
   "id": "8d24f834",
   "metadata": {},
   "outputs": [
    {
     "name": "stdout",
     "output_type": "stream",
     "text": [
      "Model: \"sequential_1\"\n",
      "_________________________________________________________________\n",
      " Layer (type)                Output Shape              Param #   \n",
      "=================================================================\n",
      " text_vectorization_1 (TextV  (None, 50)               0         \n",
      " ectorization)                                                   \n",
      "                                                                 \n",
      " embedding_1 (Embedding)     (None, 50, 200)           3000200   \n",
      "                                                                 \n",
      " flatten_1 (Flatten)         (None, 10000)             0         \n",
      "                                                                 \n",
      " dense_2 (Dense)             (None, 8)                 80008     \n",
      "                                                                 \n",
      " dense_3 (Dense)             (None, 1)                 9         \n",
      "                                                                 \n",
      "=================================================================\n",
      "Total params: 3,080,217\n",
      "Trainable params: 3,080,217\n",
      "Non-trainable params: 0\n",
      "_________________________________________________________________\n"
     ]
    }
   ],
   "source": [
    "rnn_model.summary()"
   ]
  },
  {
   "cell_type": "code",
   "execution_count": 18,
   "id": "6b08291d",
   "metadata": {},
   "outputs": [
    {
     "name": "stdout",
     "output_type": "stream",
     "text": [
      "Epoch 1/50\n",
      "1255/1257 [============================>.] - ETA: 0s - loss: 0.4171 - accuracy: 0.7989INFO:tensorflow:Assets written to: model_01\\assets\n",
      "1257/1257 [==============================] - 17s 13ms/step - loss: 0.4170 - accuracy: 0.7989 - val_loss: 0.3517 - val_accuracy: 0.8446\n",
      "Epoch 2/50\n",
      "1256/1257 [============================>.] - ETA: 0s - loss: 0.3085 - accuracy: 0.8668INFO:tensorflow:Assets written to: model_02\\assets\n",
      "1257/1257 [==============================] - 15s 12ms/step - loss: 0.3085 - accuracy: 0.8668 - val_loss: 0.3579 - val_accuracy: 0.8420\n",
      "Epoch 3/50\n",
      "1255/1257 [============================>.] - ETA: 0s - loss: 0.2308 - accuracy: 0.9047INFO:tensorflow:Assets written to: model_03\\assets\n",
      "1257/1257 [==============================] - 15s 12ms/step - loss: 0.2309 - accuracy: 0.9047 - val_loss: 0.4053 - val_accuracy: 0.8340\n",
      "Epoch 4/50\n",
      "1255/1257 [============================>.] - ETA: 0s - loss: 0.1661 - accuracy: 0.9328INFO:tensorflow:Assets written to: model_04\\assets\n",
      "1257/1257 [==============================] - 15s 12ms/step - loss: 0.1662 - accuracy: 0.9327 - val_loss: 0.4903 - val_accuracy: 0.8294\n"
     ]
    }
   ],
   "source": [
    "history = rnn_model.fit(\n",
    "    x_train,\n",
    "    y_train,\n",
    "    epochs=50,\n",
    "    batch_size=128,\n",
    "    validation_data=(x_test, y_test),\n",
    "    callbacks=[early_stop, checkpoint, tensorboard]\n",
    ")"
   ]
  },
  {
   "cell_type": "code",
   "execution_count": null,
   "id": "eee38edd",
   "metadata": {},
   "outputs": [],
   "source": [
    "rnn_model.save(\"WtoE\", save_format='tf')"
   ]
  },
  {
   "cell_type": "code",
   "execution_count": null,
   "id": "29fc70fa",
   "metadata": {},
   "outputs": [],
   "source": []
  }
 ],
 "metadata": {
  "kernelspec": {
   "display_name": "Python 3 (ipykernel)",
   "language": "python",
   "name": "python3"
  },
  "language_info": {
   "codemirror_mode": {
    "name": "ipython",
    "version": 3
   },
   "file_extension": ".py",
   "mimetype": "text/x-python",
   "name": "python",
   "nbconvert_exporter": "python",
   "pygments_lexer": "ipython3",
   "version": "3.10.9"
  }
 },
 "nbformat": 4,
 "nbformat_minor": 5
}
