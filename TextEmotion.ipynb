{
 "cells": [
  {
   "cell_type": "code",
   "execution_count": 2,
   "id": "54c79de6",
   "metadata": {},
   "outputs": [],
   "source": [
    "import json\n",
    "import os\n",
    "os.environ['TF_CPP_MIN_LOG_LEVEL'] = '2'\n",
    "import numpy as np\n",
    "from tensorflow.keras import models, layers, optimizers, losses, metrics\n",
    "import tensorflow as tf\n",
    "from tensorflow.keras.preprocessing.sequence import pad_sequences\n",
    "import csv\n",
    "import pandas as pd\n",
    "from tensorflow.keras.layers import Dense, Embedding, Flatten\n",
    "from tensorflow.keras import Input, Model\n",
    "from sklearn.model_selection import train_test_split\n",
    "from tensorflow.keras.models import Sequential\n",
    "from tensorflow.keras.layers.experimental.preprocessing import TextVectorization"
   ]
  },
  {
   "cell_type": "code",
   "execution_count": 3,
   "id": "b95fc04d",
   "metadata": {},
   "outputs": [],
   "source": [
    "x, y = [], []\n",
    "file1 = \"./comment-labeling.csv\"\n",
    "file2 = \"./naver-ratings.csv\""
   ]
  },
  {
   "cell_type": "code",
   "execution_count": 6,
   "id": "4bbe8f85",
   "metadata": {},
   "outputs": [],
   "source": [
    "f = open(file1, 'r', encoding='utf-8')\n",
    "read = csv.reader(f)\n",
    "for line in read:\n",
    "    emotion = float(line[-1])\n",
    "    x.append(line[0])\n",
    "    y.append(emotion)\n",
    "    \n",
    "f.close()"
   ]
  },
  {
   "cell_type": "code",
   "execution_count": 7,
   "id": "b3c95515",
   "metadata": {},
   "outputs": [],
   "source": [
    "x2, y2 = [], []\n",
    "f = open(file2, 'r', encoding='utf-8')\n",
    "read = csv.reader(f)\n",
    "for line in read:\n",
    "    emotion = float(line[-1])\n",
    "    y2.append(emotion)\n",
    "    x2.append(line[0])\n",
    "    \n",
    "f.close()"
   ]
  },
  {
   "cell_type": "code",
   "execution_count": 8,
   "id": "a6575286",
   "metadata": {},
   "outputs": [],
   "source": [
    "test_percent = 0.2"
   ]
  },
  {
   "cell_type": "code",
   "execution_count": 9,
   "id": "0645ec4e",
   "metadata": {},
   "outputs": [],
   "source": [
    "x_train, x_test, y_train, y_test = train_test_split(x, y, test_size=test_percent)\n",
    "a, b, c, d = train_test_split(x2, y2, test_size=test_percent)"
   ]
  },
  {
   "cell_type": "code",
   "execution_count": 10,
   "id": "312b5365",
   "metadata": {},
   "outputs": [],
   "source": [
    "x_train += a\n",
    "x_test += b\n",
    "y_train += c\n",
    "y_test += d"
   ]
  },
  {
   "cell_type": "code",
   "execution_count": 17,
   "id": "571b90df",
   "metadata": {},
   "outputs": [],
   "source": [
    "def build_model(train_data):\n",
    "    train_data = tf.data.Dataset.from_tensor_slices(train_data)\n",
    "    model = Sequential()\n",
    "    model.add(Input(shape=(1,), dtype=\"string\"))\n",
    "    max_tokens = 15000\n",
    "    max_len = 50\n",
    "    vectorize_layer = TextVectorization(\n",
    "        max_tokens=max_tokens,\n",
    "        output_mode=\"int\",\n",
    "        output_sequence_length=max_len\n",
    "    )\n",
    "    \n",
    "    vectorize_layer.adapt(train_data.batch(64))\n",
    "    model.add(vectorize_layer)\n",
    "    model.add(layers.Embedding(max_tokens + 1, output_dim=200))\n",
    "    model.add(Flatten())\n",
    "    model.add(Dense(8, activation=\"relu\"))\n",
    "    model.add(Dense(1, activation=\"sigmoid\"))\n",
    "    return model"
   ]
  },
  {
   "cell_type": "code",
   "execution_count": 34,
   "id": "d8f1c8ff",
   "metadata": {},
   "outputs": [],
   "source": [
    "tf.config.experimental_enable_xla=True"
   ]
  },
  {
   "cell_type": "code",
   "execution_count": 35,
   "id": "90cd2f26",
   "metadata": {},
   "outputs": [],
   "source": [
    "rnn_model = build_model(x_train)\n",
    "rnn_model.compile(\n",
    "    optimizer=\"adam\",\n",
    "    loss='binary_crossentropy',\n",
    "    metrics=['accuracy']\n",
    ")"
   ]
  },
  {
   "cell_type": "code",
   "execution_count": 36,
   "id": "6b08291d",
   "metadata": {},
   "outputs": [
    {
     "name": "stdout",
     "output_type": "stream",
     "text": [
      "Epoch 1/5\n",
      "   1/1269 [..............................] - ETA: 3:02 - loss: 0.6933 - accuracy: 0.5000"
     ]
    },
    {
     "name": "stderr",
     "output_type": "stream",
     "text": [
      "C:\\Users\\kwarkmc\\.conda\\envs\\capstone\\lib\\site-packages\\tensorflow\\python\\data\\ops\\structured_function.py:256: UserWarning: Even though the `tf.config.experimental_run_functions_eagerly` option is set, this option does not apply to tf.data functions. To force eager execution of tf.data functions, please use `tf.data.experimental.enable_debug_mode()`.\n",
      "  warnings.warn(\n"
     ]
    },
    {
     "name": "stdout",
     "output_type": "stream",
     "text": [
      "1269/1269 [==============================] - 94s 74ms/step - loss: 0.6673 - accuracy: 0.5344 - val_loss: 0.4096 - val_accuracy: 0.8094\n",
      "Epoch 2/5\n",
      "1269/1269 [==============================] - 95s 75ms/step - loss: 0.3541 - accuracy: 0.8422 - val_loss: 0.3497 - val_accuracy: 0.8433\n",
      "Epoch 3/5\n",
      "1269/1269 [==============================] - 94s 74ms/step - loss: 0.2468 - accuracy: 0.8939 - val_loss: 0.3909 - val_accuracy: 0.8332\n",
      "Epoch 4/5\n",
      "1269/1269 [==============================] - 94s 74ms/step - loss: 0.1675 - accuracy: 0.9295 - val_loss: 0.5141 - val_accuracy: 0.8235\n",
      "Epoch 5/5\n",
      "1269/1269 [==============================] - 94s 74ms/step - loss: 0.1264 - accuracy: 0.9459 - val_loss: 0.6455 - val_accuracy: 0.8181\n"
     ]
    }
   ],
   "source": [
    "history = rnn_model.fit(\n",
    "    x_train,\n",
    "    y_train,\n",
    "    epochs=5,\n",
    "    batch_size=128,\n",
    "    validation_data=(x_test, y_test)\n",
    ")"
   ]
  },
  {
   "cell_type": "code",
   "execution_count": 37,
   "id": "0fc2b663",
   "metadata": {},
   "outputs": [
    {
     "name": "stdout",
     "output_type": "stream",
     "text": [
      "Model: \"sequential_4\"\n",
      "_________________________________________________________________\n",
      " Layer (type)                Output Shape              Param #   \n",
      "=================================================================\n",
      " text_vectorization_1 (TextV  (None, 50)               0         \n",
      " ectorization)                                                   \n",
      "                                                                 \n",
      " embedding_1 (Embedding)     (None, 50, 200)           3000200   \n",
      "                                                                 \n",
      " flatten_1 (Flatten)         (None, 10000)             0         \n",
      "                                                                 \n",
      " dense_2 (Dense)             (None, 8)                 80008     \n",
      "                                                                 \n",
      " dense_3 (Dense)             (None, 1)                 9         \n",
      "                                                                 \n",
      "=================================================================\n",
      "Total params: 3,080,217\n",
      "Trainable params: 3,080,217\n",
      "Non-trainable params: 0\n",
      "_________________________________________________________________\n"
     ]
    }
   ],
   "source": [
    "rnn_model.summary()"
   ]
  },
  {
   "cell_type": "code",
   "execution_count": 38,
   "id": "eee38edd",
   "metadata": {},
   "outputs": [
    {
     "name": "stderr",
     "output_type": "stream",
     "text": [
      "WARNING:absl:Found untraced functions such as adapt_step, _update_step_xla while saving (showing 2 of 2). These functions will not be directly callable after loading.\n"
     ]
    },
    {
     "name": "stdout",
     "output_type": "stream",
     "text": [
      "INFO:tensorflow:Assets written to: WtoE\\assets\n"
     ]
    },
    {
     "name": "stderr",
     "output_type": "stream",
     "text": [
      "INFO:tensorflow:Assets written to: WtoE\\assets\n"
     ]
    }
   ],
   "source": [
    "rnn_model.save(\"WtoE\", save_format='tf')"
   ]
  },
  {
   "cell_type": "code",
   "execution_count": null,
   "id": "29fc70fa",
   "metadata": {},
   "outputs": [],
   "source": []
  }
 ],
 "metadata": {
  "kernelspec": {
   "display_name": "Python 3 (ipykernel)",
   "language": "python",
   "name": "python3"
  },
  "language_info": {
   "codemirror_mode": {
    "name": "ipython",
    "version": 3
   },
   "file_extension": ".py",
   "mimetype": "text/x-python",
   "name": "python",
   "nbconvert_exporter": "python",
   "pygments_lexer": "ipython3",
   "version": "3.10.8"
  }
 },
 "nbformat": 4,
 "nbformat_minor": 5
}
