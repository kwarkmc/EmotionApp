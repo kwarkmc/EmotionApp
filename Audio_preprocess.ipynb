{
 "cells": [
  {
   "cell_type": "code",
   "execution_count": null,
   "id": "bf11559e",
   "metadata": {},
   "outputs": [],
   "source": [
    "import matplotlib.pyplot as plt\n",
    "import os\n",
    "import numpy as np\n",
    "import librosa\n",
    "import librosa.display\n",
    "import sklearn\n",
    "from unicodedata import normalize"
   ]
  },
  {
   "cell_type": "code",
   "execution_count": null,
   "id": "05b0cc17",
   "metadata": {},
   "outputs": [],
   "source": [
    "pad2d = lambda a, i: a[:, 0:i] if a.shape[1] > i else np.hstack((a, np.zeros((a.shape[0], i-a.shape[1]))))"
   ]
  },
  {
   "cell_type": "code",
   "execution_count": null,
   "id": "dbac2228",
   "metadata": {},
   "outputs": [],
   "source": [
    "import warnings\n",
    "warnings.filterwarnings('ignore')"
   ]
  },
  {
   "cell_type": "code",
   "execution_count": null,
   "id": "2295402e",
   "metadata": {},
   "outputs": [],
   "source": [
    "DATA_DIR = '1. VoiceToEmotion/Data/'"
   ]
  },
  {
   "cell_type": "code",
   "execution_count": null,
   "id": "ead07dcd",
   "metadata": {},
   "outputs": [],
   "source": [
    "trainset = []\n",
    "testset = []"
   ]
  },
  {
   "cell_type": "code",
   "execution_count": null,
   "id": "c410d8fb",
   "metadata": {},
   "outputs": [],
   "source": [
    "train_X = []\n",
    "train_mfccs = []\n",
    "train_y = []"
   ]
  },
  {
   "cell_type": "code",
   "execution_count": null,
   "id": "efa1439a",
   "metadata": {},
   "outputs": [],
   "source": [
    "test_X = []\n",
    "test_mfccs = []\n",
    "test_y = []"
   ]
  },
  {
   "cell_type": "code",
   "execution_count": null,
   "id": "dd779168",
   "metadata": {},
   "outputs": [],
   "source": [
    "frame_length = 0.025\n",
    "frame_stride = 0.0010"
   ]
  },
  {
   "cell_type": "code",
   "execution_count": null,
   "id": "43e92358",
   "metadata": {},
   "outputs": [],
   "source": [
    "filename = os.listdir(DATA_DIR)"
   ]
  },
  {
   "cell_type": "code",
   "execution_count": null,
   "id": "5f4396f1",
   "metadata": {},
   "outputs": [],
   "source": [
    "#Train Data MFCC 적용\n",
    "\n",
    "for filename in os.listdir(DATA_DIR + \"train_real/\"):\n",
    "    filename = normalize('NFC', filename)\n",
    "    try:\n",
    "        if '.wav' not in filename in filename:\n",
    "            continue\n",
    "        wav, sr = librosa.load(DATA_DIR + \"train_real/\" + filename, sr=None)\n",
    "        print(filename)\n",
    "        \n",
    "        mfcc = librosa.feature.mfcc(y=wav, sr=sr, n_mfcc=100, n_fft=400, hop_length=160)\n",
    "        mfcc = sklearn.preprocessing.scale(mfcc, axis=1)\n",
    "        padded_mfcc = pad2d(mfcc, 700)\n",
    "        \n",
    "        np.save(DATA_DIR + 'train/' + filename[:-4], padded_mfcc)\n",
    "    \n",
    "    except Exception as e:\n",
    "        print(filename, e)\n",
    "        raise"
   ]
  },
  {
   "cell_type": "code",
   "execution_count": null,
   "id": "1651968f",
   "metadata": {},
   "outputs": [],
   "source": [
    "for filename in os.listdir(DATA_DIR + \"test_real/\"):\n",
    "    filename = normalize('NFC', filename)\n",
    "    try:\n",
    "        if '.wav' not in filename in filename:\n",
    "            continue\n",
    "        wav, sr = librosa.load(DATA_DIR + \"test_real/\" + filename, sr=None)\n",
    "        print(filename)\n",
    "        \n",
    "        mfcc = librosa.feature.mfcc(y=wav, sr=sr, n_mfcc=100, n_fft=400, hop_length=160)\n",
    "        mfcc = sklearn.preprocessing.scale(mfcc, axis=1)\n",
    "        padded_mfcc = pad2d(mfcc, 700)\n",
    "        \n",
    "        np.save(DATA_DIR + 'test/' + filename[:-4], padded_mfcc)\n",
    "        \n",
    "    except Exception as e:\n",
    "        print(filename, e)\n",
    "        raise"
   ]
  },
  {
   "cell_type": "code",
   "execution_count": null,
   "id": "97de0fe2",
   "metadata": {},
   "outputs": [],
   "source": []
  }
 ],
 "metadata": {
  "kernelspec": {
   "display_name": "Python 3 (ipykernel)",
   "language": "python",
   "name": "python3"
  },
  "language_info": {
   "codemirror_mode": {
    "name": "ipython",
    "version": 3
   },
   "file_extension": ".py",
   "mimetype": "text/x-python",
   "name": "python",
   "nbconvert_exporter": "python",
   "pygments_lexer": "ipython3",
   "version": "3.10.8"
  }
 },
 "nbformat": 4,
 "nbformat_minor": 5
}
