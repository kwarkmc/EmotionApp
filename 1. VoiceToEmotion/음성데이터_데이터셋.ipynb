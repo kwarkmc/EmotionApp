{
 "cells": [
  {
   "cell_type": "code",
   "execution_count": 21,
   "metadata": {},
   "outputs": [],
   "source": [
    "import torch\n",
    "import numpy as np\n",
    "from torch.autograd import Variable\n",
    "from torch.utils.data import Dataset, DataLoader\n",
    "import torchvision.transforms as transforms\n",
    "import librosa\n",
    "import librosa.display\n",
    "import IPython.display\n",
    "import numpy as np\n",
    "\n",
    "MFCC_X = 20\n",
    "MFCC_Y = 400"
   ]
  },
  {
   "cell_type": "code",
   "execution_count": 22,
   "metadata": {},
   "outputs": [],
   "source": [
    "def _path(loc, filename, redundant, format_):\n",
    "    delimiter = '/'\n",
    "    path = ( loc + delimiter +\n",
    "           filename + redundant + format_)\n",
    "    return path"
   ]
  },
  {
   "cell_type": "code",
   "execution_count": 23,
   "metadata": {},
   "outputs": [],
   "source": [
    "def _normalize(mfcc):\n",
    "    return (mfcc - np.min(mfcc)) / (np.max(mfcc) - np.min(mfcc))"
   ]
  },
  {
   "cell_type": "code",
   "execution_count": 24,
   "metadata": {},
   "outputs": [],
   "source": [
    "def _fit_size(arr, size):\n",
    "    print(arr.shape)\n",
    "    print(arr[0].shape)\n",
    "    print(len(arr))\n",
    "    print(len(arr[0]))\n",
    "    print(size - len(arr[0]))\n",
    "    zeros = np.zeros( (len(arr), size - len(arr[0]) ) )\n",
    "    arr = np.append(arr, zeros, axis = 1)\n",
    "    arr.astype('float32')\n",
    "    return arr"
   ]
  },
  {
   "cell_type": "code",
   "execution_count": 25,
   "metadata": {},
   "outputs": [],
   "source": [
    "def _mfcc(path):\n",
    "    y, sr = librosa.load(path)\n",
    "    mfcc = librosa.feature.mfcc(y = y, sr = sr)\n",
    "    mfcc = _fit_size(mfcc, MFCC_Y)\n",
    "    return  _normalize(mfcc)"
   ]
  },
  {
   "cell_type": "code",
   "execution_count": 26,
   "metadata": {},
   "outputs": [],
   "source": [
    "class WordDataset(Dataset):\n",
    "    def __init__(self, train = True):\n",
    "        label_list = [0, 1]\n",
    "        self.label_word = ['긍', '부']\n",
    "        self.train = train\n",
    "        num_data   =  5\n",
    "        num_train  =  4\n",
    "        num_test   =  1\n",
    "\n",
    "        if self.train == True: \n",
    "            self.train_data   =  []\n",
    "            self.train_label  =  []\n",
    "            \n",
    "            print(\"\\n\\n==== Train Data:\")\n",
    "            for item in label_list:\n",
    "                print(\"===\", end = \"\")\n",
    "                for i in range(1, num_train + 1):\n",
    "                    \"\"\"\n",
    "                    path = _path(loc = 'Data/Audio', \n",
    "                              directory = self.label_word[item],filename = self.label_word[item],\n",
    "                                 redundant =str(i), format_ = '.wav')\n",
    "                    \"\"\"\n",
    "                    path = _path(loc = 'Data/Audio',\n",
    "                                 filename = self.label_word[item], redundant = str(i), format_ = '.wav')\n",
    "                    mfcc = _mfcc(path)\n",
    "                    self.train_data.append(mfcc)\n",
    "                    self.train_label.append(item)\n",
    "                    \n",
    "            self.train_label = np.array(self.train_label)\n",
    "            self.train_data = np.concatenate(self.train_data)\n",
    "            self.train_data = self.train_data.reshape(num_train * 4, MFCC_X, MFCC_Y) # 3600개에 (20,44) mfcc\n",
    "            print(\"=== Dataset Download Complete !!\")\n",
    "            \n",
    "        else:\n",
    "            self.test_data   =  []\n",
    "            self.test_label  =  []\n",
    "            \n",
    "            print(\"\\n\\n=== Test Data:\")\n",
    "            for item in label_list:\n",
    "                print(\"===\", end = \"\")\n",
    "                for i in range(num_train + 1, num_data + 1):              \n",
    "                    path = _path(loc = 'Data/Audio', \n",
    "                              directory = self.label_word[item],filename = self.label_word[item],\n",
    "                                 redundant = str(i), format_ = '.wav')\n",
    "                    mfcc = _mfcc(path)\n",
    "                    self.test_data.append(mfcc)\n",
    "                    self.test_label.append(item)\n",
    "                    \n",
    "            self.test_label = np.array(self.test_label)\n",
    "            self.test_data = np.concatenate(self.test_data)\n",
    "            self.test_data = self.test_data.reshape(num_test * 4, MFCC_X, MFCC_Y) # 3600개에 (20,44) mfcc\n",
    "            print(\"=== Dataset Download Complete !!\")\n",
    "        \n",
    "    def __getitem__(self, index):\n",
    "        if self.train:\n",
    "            return self.train_data[index], self.train_label[index]\n",
    "        else:\n",
    "            return self.test_data[index], self.test_label[index]\n",
    "    \n",
    "    def __len__(self):\n",
    "        if self.train:\n",
    "            return len(self.train_data)\n",
    "        else:\n",
    "            return len(self.test_data)"
   ]
  },
  {
   "cell_type": "code",
   "execution_count": 27,
   "metadata": {},
   "outputs": [
    {
     "name": "stdout",
     "output_type": "stream",
     "text": [
      "\n",
      "\n",
      "==== Train Data:\n",
      "===(20, 198)\n",
      "(198,)\n",
      "20\n",
      "198\n",
      "202\n",
      "(20, 177)\n",
      "(177,)\n",
      "20\n",
      "177\n",
      "223\n",
      "(20, 74)\n",
      "(74,)\n",
      "20\n",
      "74\n",
      "326\n",
      "(20, 65)\n",
      "(65,)\n",
      "20\n",
      "65\n",
      "335\n",
      "===(20, 111)\n",
      "(111,)\n",
      "20\n",
      "111\n",
      "289\n",
      "(20, 163)\n",
      "(163,)\n",
      "20\n",
      "163\n",
      "237\n",
      "(20, 133)\n",
      "(133,)\n",
      "20\n",
      "133\n",
      "267\n",
      "(20, 84)\n",
      "(84,)\n",
      "20\n",
      "84\n",
      "316\n"
     ]
    },
    {
     "ename": "ValueError",
     "evalue": "cannot reshape array of size 64000 into shape (16,20,400)",
     "output_type": "error",
     "traceback": [
      "\u001b[1;31m---------------------------------------------------------------------------\u001b[0m",
      "\u001b[1;31mValueError\u001b[0m                                Traceback (most recent call last)",
      "Cell \u001b[1;32mIn [27], line 1\u001b[0m\n\u001b[1;32m----> 1\u001b[0m train_dataset \u001b[38;5;241m=\u001b[39m \u001b[43mWordDataset\u001b[49m\u001b[43m(\u001b[49m\u001b[43mtrain\u001b[49m\u001b[43m \u001b[49m\u001b[38;5;241;43m=\u001b[39;49m\u001b[43m \u001b[49m\u001b[38;5;28;43;01mTrue\u001b[39;49;00m\u001b[43m)\u001b[49m\n\u001b[0;32m      2\u001b[0m test_dataset \u001b[38;5;241m=\u001b[39m WordDataset(train \u001b[38;5;241m=\u001b[39m \u001b[38;5;28;01mFalse\u001b[39;00m)\n\u001b[0;32m      4\u001b[0m train_loader \u001b[38;5;241m=\u001b[39m DataLoader(train_dataset, batch_size \u001b[38;5;241m=\u001b[39m \u001b[38;5;241m10\u001b[39m, shuffle \u001b[38;5;241m=\u001b[39m \u001b[38;5;28;01mTrue\u001b[39;00m, num_workers \u001b[38;5;241m=\u001b[39m \u001b[38;5;241m0\u001b[39m, drop_last \u001b[38;5;241m=\u001b[39m \u001b[38;5;28;01mTrue\u001b[39;00m)\n",
      "Cell \u001b[1;32mIn [26], line 31\u001b[0m, in \u001b[0;36mWordDataset.__init__\u001b[1;34m(self, train)\u001b[0m\n\u001b[0;32m     29\u001b[0m     \u001b[38;5;28mself\u001b[39m\u001b[38;5;241m.\u001b[39mtrain_label \u001b[38;5;241m=\u001b[39m np\u001b[38;5;241m.\u001b[39marray(\u001b[38;5;28mself\u001b[39m\u001b[38;5;241m.\u001b[39mtrain_label)\n\u001b[0;32m     30\u001b[0m     \u001b[38;5;28mself\u001b[39m\u001b[38;5;241m.\u001b[39mtrain_data \u001b[38;5;241m=\u001b[39m np\u001b[38;5;241m.\u001b[39mconcatenate(\u001b[38;5;28mself\u001b[39m\u001b[38;5;241m.\u001b[39mtrain_data)\n\u001b[1;32m---> 31\u001b[0m     \u001b[38;5;28mself\u001b[39m\u001b[38;5;241m.\u001b[39mtrain_data \u001b[38;5;241m=\u001b[39m \u001b[38;5;28;43mself\u001b[39;49m\u001b[38;5;241;43m.\u001b[39;49m\u001b[43mtrain_data\u001b[49m\u001b[38;5;241;43m.\u001b[39;49m\u001b[43mreshape\u001b[49m\u001b[43m(\u001b[49m\u001b[43mnum_train\u001b[49m\u001b[43m \u001b[49m\u001b[38;5;241;43m*\u001b[39;49m\u001b[43m \u001b[49m\u001b[38;5;241;43m4\u001b[39;49m\u001b[43m,\u001b[49m\u001b[43m \u001b[49m\u001b[43mMFCC_X\u001b[49m\u001b[43m,\u001b[49m\u001b[43m \u001b[49m\u001b[43mMFCC_Y\u001b[49m\u001b[43m)\u001b[49m \u001b[38;5;66;03m# 3600개에 (20,44) mfcc\u001b[39;00m\n\u001b[0;32m     32\u001b[0m     \u001b[38;5;28mprint\u001b[39m(\u001b[38;5;124m\"\u001b[39m\u001b[38;5;124m=== Dataset Download Complete !!\u001b[39m\u001b[38;5;124m\"\u001b[39m)\n\u001b[0;32m     34\u001b[0m \u001b[38;5;28;01melse\u001b[39;00m:\n",
      "\u001b[1;31mValueError\u001b[0m: cannot reshape array of size 64000 into shape (16,20,400)"
     ]
    }
   ],
   "source": [
    "train_dataset = WordDataset(train = True)\n",
    "test_dataset = WordDataset(train = False)\n",
    "\n",
    "train_loader = DataLoader(train_dataset, batch_size = 10, shuffle = True, num_workers = 0, drop_last = True)\n",
    "test_loader = DataLoader(test_dataset, batch_size = 10, shuffle = False, num_workers = 0, drop_last = True)"
   ]
  },
  {
   "cell_type": "code",
   "execution_count": null,
   "metadata": {},
   "outputs": [],
   "source": []
  }
 ],
 "metadata": {
  "colab": {
   "provenance": []
  },
  "kernelspec": {
   "display_name": "Python 3 (ipykernel)",
   "language": "python",
   "name": "python3"
  },
  "language_info": {
   "codemirror_mode": {
    "name": "ipython",
    "version": 3
   },
   "file_extension": ".py",
   "mimetype": "text/x-python",
   "name": "python",
   "nbconvert_exporter": "python",
   "pygments_lexer": "ipython3",
   "version": "3.10.8"
  }
 },
 "nbformat": 4,
 "nbformat_minor": 1
}
