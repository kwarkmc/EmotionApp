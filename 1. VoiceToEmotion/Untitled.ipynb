{
 "cells": [
  {
   "cell_type": "code",
   "execution_count": 1,
   "id": "d2fec6aa",
   "metadata": {},
   "outputs": [],
   "source": [
    "import numpy as np\n",
    "import pandas as pd\n",
    "import os"
   ]
  },
  {
   "cell_type": "code",
   "execution_count": 2,
   "id": "9451a698",
   "metadata": {},
   "outputs": [],
   "source": [
    "import sklearn\n",
    "from os.path import join"
   ]
  },
  {
   "cell_type": "code",
   "execution_count": 6,
   "id": "66cd9795",
   "metadata": {},
   "outputs": [],
   "source": [
    "#Data 로드\n",
    "DATA_PATH = join('/Data', 'Audio')\n",
    "#pd_train = pd.read_csv(join(DATA_PATH, 'train_data.csv'))\n",
    "#pd_test = pd.read_csv(join(DATA_PATH, 'test_data.csv'))\n",
    "\n",
    "#print(pd_train.info(), pd_test.info())"
   ]
  },
  {
   "cell_type": "code",
   "execution_count": 4,
   "id": "133508c9",
   "metadata": {},
   "outputs": [],
   "source": [
    "import librosa\n",
    "import glob, pickle\n",
    "import numpy as np\n",
    "from sklearn.model_selection import train_test_split\n",
    "from sklearn.metrics import accuracy_score\n",
    "import matplotlib.pyplot as plt\n",
    "import librosa.display"
   ]
  },
  {
   "cell_type": "code",
   "execution_count": 7,
   "id": "8481562c",
   "metadata": {},
   "outputs": [],
   "source": [
    "def load_audiofiles(file_name, sample_rate=48000):\n",
    "    \n",
    "    result = np.array([])\n",
    "    audio_signal, sample_rate = librosa.load(file_name, duration=3, offset=0.5, sr=sample_rate)\n",
    "    signal = np.zeros(int(sample_rate * 3,))\n",
    "    signal[:len(audio_signal)] = audio_signal\n",
    "    \n",
    "    return signal"
   ]
  },
  {
   "cell_type": "code",
   "execution_count": null,
   "id": "a7707b62",
   "metadata": {},
   "outputs": [],
   "source": [
    "from tqdm import tqdm\n",
    "def load_data(data_info, isTrain=True):\n",
    "    PATH = join('/Data', 'Audio')\n",
    "    if isTrain:\n",
    "        train_data = []\n",
    "        train_label = []\n",
    "        \n",
    "        file_list = data_info['file_name']\n",
    "        emotion_list = data_info['emotion']\n",
    "        for file_name, emotion in tqdm(zip(file_list, emotion_list)):\n",
    "            hi = join(PATH, )"
   ]
  }
 ],
 "metadata": {
  "kernelspec": {
   "display_name": "Python 3 (ipykernel)",
   "language": "python",
   "name": "python3"
  },
  "language_info": {
   "codemirror_mode": {
    "name": "ipython",
    "version": 3
   },
   "file_extension": ".py",
   "mimetype": "text/x-python",
   "name": "python",
   "nbconvert_exporter": "python",
   "pygments_lexer": "ipython3",
   "version": "3.10.8"
  }
 },
 "nbformat": 4,
 "nbformat_minor": 5
}
