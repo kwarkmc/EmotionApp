{
 "cells": [
  {
   "cell_type": "code",
   "execution_count": 1,
   "id": "046b2221",
   "metadata": {},
   "outputs": [],
   "source": [
    "import matplotlib.pyplot as plt\n",
    "import os\n",
    "from scipy.io import wavfile\n",
    "from collections import defaultdict, Counter\n",
    "from scipy import signal\n",
    "import numpy as np\n",
    "import librosa\n",
    "import sklearn\n",
    "import random\n",
    "from unicodedata import normalize"
   ]
  },
  {
   "cell_type": "code",
   "execution_count": 2,
   "id": "9cc35b4a",
   "metadata": {},
   "outputs": [],
   "source": [
    "DATA_DIR = 'Data/Audio/'"
   ]
  },
  {
   "cell_type": "code",
   "execution_count": 13,
   "id": "fb4a893e",
   "metadata": {},
   "outputs": [
    {
     "name": "stdout",
     "output_type": "stream",
     "text": [
      "sr :  22050\n",
      "wav shape :  (101364,)\n",
      "length :  4.597006802721088 secs\n"
     ]
    }
   ],
   "source": [
    "wav, sr = librosa.load('Data/Audio/긍1.wav')\n",
    "print('sr : ', sr)\n",
    "print('wav shape : ', wav.shape)\n",
    "print('length : ', wav.shape[0]/float(sr), 'secs')"
   ]
  },
  {
   "cell_type": "code",
   "execution_count": 28,
   "id": "ed28b11e",
   "metadata": {},
   "outputs": [
    {
     "name": "stderr",
     "output_type": "stream",
     "text": [
      "C:\\Users\\kwarkmc\\.conda\\envs\\capstone\\lib\\site-packages\\sklearn\\preprocessing\\_data.py:239: UserWarning: Numerical issues were encountered when centering the data and might not be solved. Dataset may contain too large values. You may need to prescale your features.\n",
      "  warnings.warn(\n",
      "C:\\Users\\kwarkmc\\.conda\\envs\\capstone\\lib\\site-packages\\sklearn\\preprocessing\\_data.py:258: UserWarning: Numerical issues were encountered when scaling the data and might not be solved. The standard deviation of the data is probably very close to 0. \n",
      "  warnings.warn(\n"
     ]
    }
   ],
   "source": [
    "    mfcc = librosa.feature.mfcc(y=wav, sr=sr)\n",
    "    mfcc = sklearn.preprocessing.scale(mfcc, axis=1)\n",
    "    padded_mfcc = pad2d(mfcc, 40)"
   ]
  },
  {
   "cell_type": "code",
   "execution_count": 5,
   "id": "c3091100",
   "metadata": {},
   "outputs": [],
   "source": [
    "trainset = []\n",
    "testset = []\n",
    "\n",
    "train_X = []\n",
    "train_mfccs = []\n",
    "train_y = []\n",
    "\n",
    "test_X = []\n",
    "test_mfccs = []\n",
    "test_y = []\n",
    "\n",
    "pad1d = lambda a, i: a[0:i] if a.shape[0] > i else np.hstack((a, np.zeros(i-a.shape[0])))\n",
    "pad2d = lambda a, i: a[:, 0:i] if a.shape[1] > i else np.hstack((a, np.zeros((a.shape[0], i-a.shape[1]))))\n",
    "\n",
    "frame_length = 0.025\n",
    "frame_stride = 0.0010"
   ]
  },
  {
   "cell_type": "code",
   "execution_count": 6,
   "id": "0977e949",
   "metadata": {},
   "outputs": [
    {
     "name": "stderr",
     "output_type": "stream",
     "text": [
      "C:\\Users\\kwarkmc\\AppData\\Local\\Temp\\ipykernel_22796\\2001063556.py:11: FutureWarning: Pass y=[-0.00013476 -0.00031199 -0.0003094  ... -0.00021771 -0.00032605\n",
      " -0.00037795] as keyword args. From version 0.10 passing these as positional arguments will result in an error\n",
      "  mfcc = librosa.feature.mfcc(wav, sr=16000, n_mfcc=100, n_fft=400, hop_length=160)\n",
      "C:\\Users\\kwarkmc\\.conda\\envs\\capstone\\lib\\site-packages\\sklearn\\preprocessing\\_data.py:239: UserWarning: Numerical issues were encountered when centering the data and might not be solved. Dataset may contain too large values. You may need to prescale your features.\n",
      "  warnings.warn(\n",
      "C:\\Users\\kwarkmc\\.conda\\envs\\capstone\\lib\\site-packages\\sklearn\\preprocessing\\_data.py:258: UserWarning: Numerical issues were encountered when scaling the data and might not be solved. The standard deviation of the data is probably very close to 0. \n",
      "  warnings.warn(\n",
      "C:\\Users\\kwarkmc\\AppData\\Local\\Temp\\ipykernel_22796\\2001063556.py:11: FutureWarning: Pass y=[ 1.07433094e-04  9.19315280e-05  1.28085212e-05 ... -1.65510224e-04\n",
      " -1.19534197e-04 -1.89645201e-04] as keyword args. From version 0.10 passing these as positional arguments will result in an error\n",
      "  mfcc = librosa.feature.mfcc(wav, sr=16000, n_mfcc=100, n_fft=400, hop_length=160)\n",
      "C:\\Users\\kwarkmc\\.conda\\envs\\capstone\\lib\\site-packages\\sklearn\\preprocessing\\_data.py:239: UserWarning: Numerical issues were encountered when centering the data and might not be solved. Dataset may contain too large values. You may need to prescale your features.\n",
      "  warnings.warn(\n",
      "C:\\Users\\kwarkmc\\.conda\\envs\\capstone\\lib\\site-packages\\sklearn\\preprocessing\\_data.py:258: UserWarning: Numerical issues were encountered when scaling the data and might not be solved. The standard deviation of the data is probably very close to 0. \n",
      "  warnings.warn(\n",
      "C:\\Users\\kwarkmc\\AppData\\Local\\Temp\\ipykernel_22796\\2001063556.py:11: FutureWarning: Pass y=[-2.0172147e-05 -2.9652881e-05 -6.4838299e-05 ...  8.2136030e-05\n",
      "  3.3835779e-05  0.0000000e+00] as keyword args. From version 0.10 passing these as positional arguments will result in an error\n",
      "  mfcc = librosa.feature.mfcc(wav, sr=16000, n_mfcc=100, n_fft=400, hop_length=160)\n",
      "C:\\Users\\kwarkmc\\.conda\\envs\\capstone\\lib\\site-packages\\sklearn\\preprocessing\\_data.py:239: UserWarning: Numerical issues were encountered when centering the data and might not be solved. Dataset may contain too large values. You may need to prescale your features.\n",
      "  warnings.warn(\n",
      "C:\\Users\\kwarkmc\\.conda\\envs\\capstone\\lib\\site-packages\\sklearn\\preprocessing\\_data.py:258: UserWarning: Numerical issues were encountered when scaling the data and might not be solved. The standard deviation of the data is probably very close to 0. \n",
      "  warnings.warn(\n",
      "C:\\Users\\kwarkmc\\AppData\\Local\\Temp\\ipykernel_22796\\2001063556.py:11: FutureWarning: Pass y=[-2.0172147e-05 -2.9652881e-05 -6.4838299e-05 ...  7.6596072e-05\n",
      "  1.0219941e-05  0.0000000e+00] as keyword args. From version 0.10 passing these as positional arguments will result in an error\n",
      "  mfcc = librosa.feature.mfcc(wav, sr=16000, n_mfcc=100, n_fft=400, hop_length=160)\n",
      "C:\\Users\\kwarkmc\\.conda\\envs\\capstone\\lib\\site-packages\\sklearn\\preprocessing\\_data.py:239: UserWarning: Numerical issues were encountered when centering the data and might not be solved. Dataset may contain too large values. You may need to prescale your features.\n",
      "  warnings.warn(\n",
      "C:\\Users\\kwarkmc\\.conda\\envs\\capstone\\lib\\site-packages\\sklearn\\preprocessing\\_data.py:258: UserWarning: Numerical issues were encountered when scaling the data and might not be solved. The standard deviation of the data is probably very close to 0. \n",
      "  warnings.warn(\n",
      "C:\\Users\\kwarkmc\\AppData\\Local\\Temp\\ipykernel_22796\\2001063556.py:11: FutureWarning: Pass y=[-2.0172147e-05 -2.9652881e-05 -6.4838299e-05 ...  7.6596072e-05\n",
      "  1.0219941e-05  0.0000000e+00] as keyword args. From version 0.10 passing these as positional arguments will result in an error\n",
      "  mfcc = librosa.feature.mfcc(wav, sr=16000, n_mfcc=100, n_fft=400, hop_length=160)\n",
      "C:\\Users\\kwarkmc\\.conda\\envs\\capstone\\lib\\site-packages\\sklearn\\preprocessing\\_data.py:239: UserWarning: Numerical issues were encountered when centering the data and might not be solved. Dataset may contain too large values. You may need to prescale your features.\n",
      "  warnings.warn(\n",
      "C:\\Users\\kwarkmc\\.conda\\envs\\capstone\\lib\\site-packages\\sklearn\\preprocessing\\_data.py:258: UserWarning: Numerical issues were encountered when scaling the data and might not be solved. The standard deviation of the data is probably very close to 0. \n",
      "  warnings.warn(\n",
      "C:\\Users\\kwarkmc\\AppData\\Local\\Temp\\ipykernel_22796\\2001063556.py:11: FutureWarning: Pass y=[-4.6129571e-05 -6.1596860e-05  6.1069462e-05 ... -2.3817085e-04\n",
      " -3.4466502e-04 -2.2728104e-04] as keyword args. From version 0.10 passing these as positional arguments will result in an error\n",
      "  mfcc = librosa.feature.mfcc(wav, sr=16000, n_mfcc=100, n_fft=400, hop_length=160)\n",
      "C:\\Users\\kwarkmc\\.conda\\envs\\capstone\\lib\\site-packages\\sklearn\\preprocessing\\_data.py:239: UserWarning: Numerical issues were encountered when centering the data and might not be solved. Dataset may contain too large values. You may need to prescale your features.\n",
      "  warnings.warn(\n",
      "C:\\Users\\kwarkmc\\.conda\\envs\\capstone\\lib\\site-packages\\sklearn\\preprocessing\\_data.py:258: UserWarning: Numerical issues were encountered when scaling the data and might not be solved. The standard deviation of the data is probably very close to 0. \n",
      "  warnings.warn(\n",
      "C:\\Users\\kwarkmc\\AppData\\Local\\Temp\\ipykernel_22796\\2001063556.py:11: FutureWarning: Pass y=[ 1.8395594e-05 -3.5886816e-05 -9.4786476e-05 ...  1.7515541e-04\n",
      "  1.8379820e-04  1.8715968e-04] as keyword args. From version 0.10 passing these as positional arguments will result in an error\n",
      "  mfcc = librosa.feature.mfcc(wav, sr=16000, n_mfcc=100, n_fft=400, hop_length=160)\n",
      "C:\\Users\\kwarkmc\\.conda\\envs\\capstone\\lib\\site-packages\\sklearn\\preprocessing\\_data.py:239: UserWarning: Numerical issues were encountered when centering the data and might not be solved. Dataset may contain too large values. You may need to prescale your features.\n",
      "  warnings.warn(\n",
      "C:\\Users\\kwarkmc\\.conda\\envs\\capstone\\lib\\site-packages\\sklearn\\preprocessing\\_data.py:258: UserWarning: Numerical issues were encountered when scaling the data and might not be solved. The standard deviation of the data is probably very close to 0. \n",
      "  warnings.warn(\n",
      "C:\\Users\\kwarkmc\\AppData\\Local\\Temp\\ipykernel_22796\\2001063556.py:11: FutureWarning: Pass y=[-5.7895410e-05 -8.0462203e-05 -5.2352127e-05 ...  8.2136030e-05\n",
      "  3.3835779e-05  0.0000000e+00] as keyword args. From version 0.10 passing these as positional arguments will result in an error\n",
      "  mfcc = librosa.feature.mfcc(wav, sr=16000, n_mfcc=100, n_fft=400, hop_length=160)\n",
      "C:\\Users\\kwarkmc\\.conda\\envs\\capstone\\lib\\site-packages\\sklearn\\preprocessing\\_data.py:239: UserWarning: Numerical issues were encountered when centering the data and might not be solved. Dataset may contain too large values. You may need to prescale your features.\n",
      "  warnings.warn(\n",
      "C:\\Users\\kwarkmc\\.conda\\envs\\capstone\\lib\\site-packages\\sklearn\\preprocessing\\_data.py:258: UserWarning: Numerical issues were encountered when scaling the data and might not be solved. The standard deviation of the data is probably very close to 0. \n",
      "  warnings.warn(\n",
      "C:\\Users\\kwarkmc\\AppData\\Local\\Temp\\ipykernel_22796\\2001063556.py:11: FutureWarning: Pass y=[1.0049277e-04 1.6616589e-04 1.2956974e-04 ... 8.4435516e-05 6.5525470e-05\n",
      " 1.3202985e-04] as keyword args. From version 0.10 passing these as positional arguments will result in an error\n",
      "  mfcc = librosa.feature.mfcc(wav, sr=16000, n_mfcc=100, n_fft=400, hop_length=160)\n",
      "C:\\Users\\kwarkmc\\.conda\\envs\\capstone\\lib\\site-packages\\sklearn\\preprocessing\\_data.py:239: UserWarning: Numerical issues were encountered when centering the data and might not be solved. Dataset may contain too large values. You may need to prescale your features.\n",
      "  warnings.warn(\n",
      "C:\\Users\\kwarkmc\\.conda\\envs\\capstone\\lib\\site-packages\\sklearn\\preprocessing\\_data.py:258: UserWarning: Numerical issues were encountered when scaling the data and might not be solved. The standard deviation of the data is probably very close to 0. \n",
      "  warnings.warn(\n",
      "C:\\Users\\kwarkmc\\AppData\\Local\\Temp\\ipykernel_22796\\2001063556.py:11: FutureWarning: Pass y=[ 0.00011679  0.00019395  0.00016565 ... -0.00032115 -0.00036008\n",
      " -0.00050223] as keyword args. From version 0.10 passing these as positional arguments will result in an error\n",
      "  mfcc = librosa.feature.mfcc(wav, sr=16000, n_mfcc=100, n_fft=400, hop_length=160)\n",
      "C:\\Users\\kwarkmc\\.conda\\envs\\capstone\\lib\\site-packages\\sklearn\\preprocessing\\_data.py:239: UserWarning: Numerical issues were encountered when centering the data and might not be solved. Dataset may contain too large values. You may need to prescale your features.\n",
      "  warnings.warn(\n",
      "C:\\Users\\kwarkmc\\.conda\\envs\\capstone\\lib\\site-packages\\sklearn\\preprocessing\\_data.py:258: UserWarning: Numerical issues were encountered when scaling the data and might not be solved. The standard deviation of the data is probably very close to 0. \n",
      "  warnings.warn(\n"
     ]
    }
   ],
   "source": [
    "# train data를 넣는다.\n",
    "for filename in os.listdir(DATA_DIR):\n",
    "  filename = normalize('NFC', filename)\n",
    "  try:\n",
    "    # wav 포맷 데이터만 사용\n",
    "    if '.wav' not in filename in filename:\n",
    "      continue\n",
    "      \n",
    "    wav, sr = librosa.load(DATA_DIR + filename, sr=16000)\n",
    "    \n",
    "    mfcc = librosa.feature.mfcc(wav, sr=16000, n_mfcc=100, n_fft=400, hop_length=160)\n",
    "    mfcc = sklearn.preprocessing.scale(mfcc, axis=1)\n",
    "    padded_mfcc = pad2d(mfcc, 40)\n",
    "\n",
    "    # 추임새 별로 dataset에 추가\n",
    "    if filename[0] == '긍':\n",
    "      trainset.append((padded_mfcc, 0))\n",
    "    elif filename[0] == '부':\n",
    "      trainset.append((padded_mfcc, 1))\n",
    "  except Exception as e:\n",
    "    print(filename, e)\n",
    "    raise\n",
    "\n",
    "# 학습 데이터를 무작위로 섞는다.\n",
    "random.shuffle(trainset)"
   ]
  },
  {
   "cell_type": "code",
   "execution_count": null,
   "id": "9794ca5c",
   "metadata": {},
   "outputs": [],
   "source": []
  }
 ],
 "metadata": {
  "kernelspec": {
   "display_name": "Python 3 (ipykernel)",
   "language": "python",
   "name": "python3"
  },
  "language_info": {
   "codemirror_mode": {
    "name": "ipython",
    "version": 3
   },
   "file_extension": ".py",
   "mimetype": "text/x-python",
   "name": "python",
   "nbconvert_exporter": "python",
   "pygments_lexer": "ipython3",
   "version": "3.10.8"
  }
 },
 "nbformat": 4,
 "nbformat_minor": 5
}
