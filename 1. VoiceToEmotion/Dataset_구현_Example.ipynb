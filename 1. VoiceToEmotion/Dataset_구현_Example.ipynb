{
  "nbformat": 4,
  "nbformat_minor": 0,
  "metadata": {
    "colab": {
      "provenance": []
    },
    "kernelspec": {
      "name": "python3",
      "display_name": "Python 3"
    },
    "language_info": {
      "name": "python"
    }
  },
  "cells": [
    {
      "cell_type": "code",
      "execution_count": 2,
      "metadata": {
        "id": "6a5KzdeLxYYQ"
      },
      "outputs": [],
      "source": [
        "#https://velog.io/@tjdtnsu/PyTorch-%EA%B8%B0%EC%B4%88-Dataset-%EB%A7%8C%EB%93%A4%EA%B8%B0\n",
        "import os\n",
        "import torch\n",
        "from torch.utils.data import Dataset\n",
        "from PIL import Image\n",
        "import torchvision.transforms as transforms"
      ]
    },
    {
      "cell_type": "code",
      "source": [
        "class MyDaseDataset(Dataset):\n",
        "  def __init__(self, x_data, y_data):\n",
        "    self.x_data = x_data\n",
        "    self.y_data = y_data\n",
        "    #init 매서드는 객체를 생성할때 실행되는 생성자. 모델에 사용할 데이터를 담아두고, 인덱스가 주어졌을 때 반환할 수 있게 만드는 초기작업\n",
        "\n",
        "  def __getitem__(self, index):\n",
        "    return self.x_data[index], self.y_data[index]\n",
        "    #getitem 매서드는 인덱스가 주어졌을 때 데이터를 반환 (Numpy나 텐서 형식으로 반환, 입력과 출력 형식을 튜플로 반환)\n",
        "\n",
        "  def __len__(self):\n",
        "    return self.x_data.shape[0]\n",
        "    #len 매서드는 학습에 사용될 총 데이터의 개수를 인덱스로 반환"
      ],
      "metadata": {
        "id": "Jg8XbuiExiW6"
      },
      "execution_count": 3,
      "outputs": []
    },
    {
      "cell_type": "code",
      "source": [
        "x_data = torch.arange(100)\n",
        "y_data = x_data*x_data\n",
        "dataset = MyDaseDataset(x_data, y_data)\n",
        "print(\"dataset example : \", dataset[0], dataset[1], dataset[5])\n",
        "print(\"dataset length : \", len(dataset))"
      ],
      "metadata": {
        "colab": {
          "base_uri": "https://localhost:8080/"
        },
        "id": "T2_VoX_HyEuq",
        "outputId": "20660c2a-95da-4ae5-ed15-1e266c7be0a3"
      },
      "execution_count": 6,
      "outputs": [
        {
          "output_type": "stream",
          "name": "stdout",
          "text": [
            "dataset example :  (tensor(0), tensor(0)) (tensor(1), tensor(1)) (tensor(5), tensor(25))\n",
            "dataset length :  100\n"
          ]
        }
      ]
    },
    {
      "cell_type": "code",
      "source": [
        "class DogCatDataset(Dataset):\n",
        "  def __init__(self, data_dir):\n",
        "    self.data_dir = os.listdir(data_dir)\n",
        "    self.image_path_list = os.listdir(data_dir)\n",
        "    self.transform = transforms.ToTensor() #이미지를 Tensor로 변환하여야 pytorch에서 사용할 수 있다.\n",
        "\n",
        "  def __getitem__(self, index):\n",
        "    image_path = os.path.join(self.data_dir, self.image_path_list[index])\n",
        "\n",
        "    x_data = Image.open(image_path)\n",
        "    x_data = self.transform(x_data)\n",
        "    y_data = 1 if \"dog\" in self.image_path_list[index] else 0\n",
        "\n",
        "    return x_data, y_data\n",
        "\n",
        "  def __len__(self):\n",
        "    return len(self.image_path_list)"
      ],
      "metadata": {
        "id": "bNCN_MIyzQOT"
      },
      "execution_count": 7,
      "outputs": []
    },
    {
      "cell_type": "code",
      "source": [],
      "metadata": {
        "id": "Hd49jlIe-JkW"
      },
      "execution_count": null,
      "outputs": []
    }
  ]
}