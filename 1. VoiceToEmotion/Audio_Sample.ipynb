{
 "cells": [
  {
   "cell_type": "code",
   "execution_count": 1,
   "id": "010dfb87",
   "metadata": {},
   "outputs": [],
   "source": [
    "from tensorflow.keras import models\n",
    "from tensorflow.keras import layers\n",
    "from tensorflow.keras import optimizers\n",
    "from tensorflow.keras import losses\n",
    "from tensorflow.keras import metrics\n",
    "from keras.models import load_model\n",
    "\n",
    "import numpy as np\n",
    "import librosa\n",
    "import librosa.display\n",
    "import sklearn\n",
    "import matplotlib.pyplot as plt\n",
    "import speech_recognition as VTT\n",
    "import os\n",
    "import sys"
   ]
  },
  {
   "cell_type": "code",
   "execution_count": 2,
   "id": "135857b1",
   "metadata": {},
   "outputs": [],
   "source": [
    "DATA_DIR = 'Data/Sample'"
   ]
  },
  {
   "cell_type": "code",
   "execution_count": 3,
   "id": "ef196875",
   "metadata": {},
   "outputs": [],
   "source": [
    "pad2d = lambda a, i: a[:, 0:i] if a.shape[1] > i else np.hstack((a, np.zeros((a.shape[0], i-a.shape[1]))))"
   ]
  },
  {
   "cell_type": "code",
   "execution_count": 4,
   "id": "a3e81b60",
   "metadata": {},
   "outputs": [
    {
     "name": "stdout",
     "output_type": "stream",
     "text": [
      "sr :  48000\n",
      "wav shape :  (252720,)\n",
      "length :  5.265 secs\n"
     ]
    }
   ],
   "source": [
    "#Audio = 원본 통화녹음 파일 Data/Sample/Sample1.wav\n",
    "\n",
    "audio, sr = librosa.load(DATA_DIR + '/Sample1.wav', sr=None)\n",
    "print('sr : ', sr)\n",
    "print('wav shape : ', audio.shape)\n",
    "print('length : ', audio.shape[0]/float(sr), 'secs')"
   ]
  },
  {
   "cell_type": "code",
   "execution_count": 5,
   "id": "0d59fd5d",
   "metadata": {},
   "outputs": [
    {
     "name": "stderr",
     "output_type": "stream",
     "text": [
      "C:\\Users\\kwarkmc\\.conda\\envs\\capstone\\lib\\site-packages\\librosa\\util\\decorators.py:88: UserWarning: Empty filters detected in mel frequency basis. Some channels will produce empty responses. Try increasing your sampling rate (and fmax) or reducing n_mels.\n",
      "  return f(*args, **kwargs)\n",
      "C:\\Users\\kwarkmc\\.conda\\envs\\capstone\\lib\\site-packages\\sklearn\\preprocessing\\_data.py:239: UserWarning: Numerical issues were encountered when centering the data and might not be solved. Dataset may contain too large values. You may need to prescale your features.\n",
      "  warnings.warn(\n",
      "C:\\Users\\kwarkmc\\.conda\\envs\\capstone\\lib\\site-packages\\sklearn\\preprocessing\\_data.py:258: UserWarning: Numerical issues were encountered when scaling the data and might not be solved. The standard deviation of the data is probably very close to 0. \n",
      "  warnings.warn(\n"
     ]
    }
   ],
   "source": [
    "mfcc = librosa.feature.mfcc(y=audio, sr=sr, n_mfcc=100, n_fft=400, hop_length=160)\n",
    "mfcc = sklearn.preprocessing.scale(mfcc, axis=1)\n",
    "padded_mfcc = pad2d(mfcc, 700)"
   ]
  },
  {
   "cell_type": "code",
   "execution_count": 6,
   "id": "a0aa0397",
   "metadata": {},
   "outputs": [],
   "source": [
    "padded_mfcc = np.expand_dims(padded_mfcc, 0)"
   ]
  },
  {
   "cell_type": "code",
   "execution_count": 7,
   "id": "92167c7c",
   "metadata": {},
   "outputs": [
    {
     "data": {
      "text/plain": [
       "array([[[-1.4837015 , -1.4784005 , -1.4976081 , ...,  1.0491314 ,\n",
       "          1.0502046 ,  1.330644  ],\n",
       "        [-0.9945525 , -0.9827411 , -1.0293392 , ..., -0.24476708,\n",
       "         -0.54219514, -0.64922714],\n",
       "        [ 0.6549844 ,  0.6704807 ,  0.58858883, ..., -1.7689602 ,\n",
       "         -2.018249  , -2.3067167 ],\n",
       "        ...,\n",
       "        [-1.4224361 , -1.6685085 , -1.6941159 , ...,  0.47783038,\n",
       "          0.31436583,  0.06027498],\n",
       "        [-1.6082423 , -1.8520662 , -1.8978883 , ...,  0.60282093,\n",
       "          0.7559665 ,  0.97852856],\n",
       "        [-0.7499189 , -1.0944737 , -1.19473   , ...,  1.6056634 ,\n",
       "          0.25969845, -0.7785154 ]]], dtype=float32)"
      ]
     },
     "execution_count": 7,
     "metadata": {},
     "output_type": "execute_result"
    }
   ],
   "source": [
    "padded_mfcc"
   ]
  },
  {
   "cell_type": "code",
   "execution_count": 8,
   "id": "c28bc830",
   "metadata": {},
   "outputs": [
    {
     "name": "stdout",
     "output_type": "stream",
     "text": [
      "1/1 [==============================] - 0s 173ms/step\n"
     ]
    }
   ],
   "source": [
    "model = load_model('weight.h5')\n",
    "VTE_result = model.predict(padded_mfcc)"
   ]
  },
  {
   "cell_type": "code",
   "execution_count": null,
   "id": "96f3345f",
   "metadata": {},
   "outputs": [],
   "source": [
    "VTE_result"
   ]
  },
  {
   "cell_type": "markdown",
   "id": "e6d42192",
   "metadata": {},
   "source": [
    "Voice To Text 부분"
   ]
  },
  {
   "cell_type": "code",
   "execution_count": 10,
   "id": "56c6884d",
   "metadata": {},
   "outputs": [],
   "source": [
    "r = VTT.Recognizer()\n",
    "kr_audio = VTT.AudioFile('Data/Sample/Sample1.wav')"
   ]
  },
  {
   "cell_type": "code",
   "execution_count": 11,
   "id": "2ba8f09b",
   "metadata": {},
   "outputs": [],
   "source": [
    "name = 0"
   ]
  },
  {
   "cell_type": "code",
   "execution_count": 12,
   "id": "097fa91c",
   "metadata": {},
   "outputs": [],
   "source": [
    "with kr_audio as source:\n",
    "    VTT_audio = r.record(source)"
   ]
  },
  {
   "cell_type": "code",
   "execution_count": 13,
   "id": "2111aebd",
   "metadata": {},
   "outputs": [
    {
     "name": "stdout",
     "output_type": "stream",
     "text": [
      "result2:\n",
      "{   'alternative': [   {   'confidence': 0.82105625,\n",
      "                           'transcript': '얼굴은 화끈 화끈 하고 가슴이 무서워 하는 사람처럼 뛰어 '\n",
      "                                         '놀았습니다'},\n",
      "                       {'transcript': '얼굴은 화끈 화끈 하고 가슴이 무서워하는 사람처럼 뛰어 놀았습니다'},\n",
      "                       {'transcript': '얼굴은 화끈화끈 하고 가슴이 무서워 하는 사람처럼 뛰어 놀았습니다'},\n",
      "                       {'transcript': '얼굴은 화끈화끈 하고 가슴이 무서워하는 사람처럼 뛰어 놀았습니다'},\n",
      "                       {'transcript': '얼굴은 화끈 화끈 하고 가슴이 무서워 하는 사람처럼 띠 놀았습니다'}],\n",
      "    'final': True}\n"
     ]
    }
   ],
   "source": [
    "temp = r.recognize_google(VTT_audio, language='ko-KR')"
   ]
  },
  {
   "cell_type": "code",
   "execution_count": 14,
   "id": "be2bae4f",
   "metadata": {},
   "outputs": [],
   "source": [
    "sys.stdout = open(str(name) + '.txt', 'w')\n",
    "print(temp)\n",
    "#sys.stdout.close()\n",
    "name = name + 1"
   ]
  },
  {
   "cell_type": "markdown",
   "id": "3d7c56c5",
   "metadata": {},
   "source": [
    "Text에서 감정 분류"
   ]
  },
  {
   "cell_type": "code",
   "execution_count": null,
   "id": "830e2c07",
   "metadata": {},
   "outputs": [],
   "source": []
  }
 ],
 "metadata": {
  "kernelspec": {
   "display_name": "Python 3 (ipykernel)",
   "language": "python",
   "name": "python3"
  },
  "language_info": {
   "codemirror_mode": {
    "name": "ipython",
    "version": 3
   },
   "file_extension": ".py",
   "mimetype": "text/x-python",
   "name": "python",
   "nbconvert_exporter": "python",
   "pygments_lexer": "ipython3",
   "version": "3.10.8"
  }
 },
 "nbformat": 4,
 "nbformat_minor": 5
}
