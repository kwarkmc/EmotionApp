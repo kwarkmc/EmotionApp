{
 "cells": [
  {
   "cell_type": "code",
   "execution_count": 29,
   "id": "03a5a8a5",
   "metadata": {},
   "outputs": [],
   "source": [
    "from tensorflow.keras import models\n",
    "from tensorflow.keras import layers\n",
    "from tensorflow.keras import optimizers\n",
    "from tensorflow.keras import losses\n",
    "from tensorflow.keras import metrics\n",
    "from keras.models import load_model\n",
    "\n",
    "import numpy as np\n",
    "import librosa\n",
    "import sklearn\n",
    "import matplotlib.pyplot as plt\n",
    "import speech_recognition as VTT\n",
    "import os\n",
    "import sys\n",
    "\n",
    "from VoiceToEmotion import pad2d"
   ]
  },
  {
   "cell_type": "code",
   "execution_count": 2,
   "id": "96761ec5",
   "metadata": {},
   "outputs": [],
   "source": [
    "DATA_DIR = 'Data/Sample'"
   ]
  },
  {
   "cell_type": "code",
   "execution_count": 27,
   "id": "2ab3fbe2",
   "metadata": {},
   "outputs": [
    {
     "name": "stdout",
     "output_type": "stream",
     "text": [
      "sr :  48000\n",
      "wav shape :  (252720,)\n",
      "length :  5.265 secs\n"
     ]
    }
   ],
   "source": [
    "#Audio = 원본 통화녹음 파일 Data/Sample/Sample1.wav\n",
    "\n",
    "audio, sr = librosa.load(DATA_DIR + '/Sample1.wav', sr=None)\n",
    "print('sr : ', sr)\n",
    "print('wav shape : ', audio.shape)\n",
    "print('length : ', wav.shape[0]/float(sr), 'secs')"
   ]
  },
  {
   "cell_type": "code",
   "execution_count": 19,
   "id": "4d7cb5dd",
   "metadata": {},
   "outputs": [],
   "source": [
    "mfcc = librosa.feature.mfcc(y = wav, sr=sr, n_mfcc=100, n_fft=400, hop_length=160)"
   ]
  },
  {
   "cell_type": "code",
   "execution_count": 20,
   "id": "4dc96f1b",
   "metadata": {},
   "outputs": [],
   "source": [
    "mfcc = sklearn.preprocessing.scale(mfcc, axis=1)"
   ]
  },
  {
   "cell_type": "code",
   "execution_count": 21,
   "id": "040db1b1",
   "metadata": {},
   "outputs": [],
   "source": [
    "padded_mfcc = pad2d(mfcc, 700)"
   ]
  },
  {
   "cell_type": "code",
   "execution_count": 22,
   "id": "42792e5c",
   "metadata": {},
   "outputs": [],
   "source": [
    "padded_mfcc = np.expand_dims(padded_mfcc, 0)"
   ]
  },
  {
   "cell_type": "code",
   "execution_count": 23,
   "id": "a8c87350",
   "metadata": {},
   "outputs": [
    {
     "data": {
      "text/plain": [
       "(1, 100, 700)"
      ]
     },
     "execution_count": 23,
     "metadata": {},
     "output_type": "execute_result"
    }
   ],
   "source": [
    "np.shape(padded_mfcc)"
   ]
  },
  {
   "cell_type": "code",
   "execution_count": 25,
   "id": "6aa0cc86",
   "metadata": {},
   "outputs": [
    {
     "name": "stdout",
     "output_type": "stream",
     "text": [
      "1/1 [==============================] - 0s 64ms/step\n"
     ]
    }
   ],
   "source": [
    "model = load_model('weight.h5')\n",
    "VTE_result = model.predict(padded_mfcc)"
   ]
  },
  {
   "cell_type": "code",
   "execution_count": 26,
   "id": "d8c3dad6",
   "metadata": {},
   "outputs": [
    {
     "data": {
      "text/plain": [
       "array([[1.        , 0.19637236]], dtype=float32)"
      ]
     },
     "execution_count": 26,
     "metadata": {},
     "output_type": "execute_result"
    }
   ],
   "source": [
    "VTE_result"
   ]
  },
  {
   "cell_type": "code",
   "execution_count": 33,
   "id": "ded03fac",
   "metadata": {},
   "outputs": [],
   "source": [
    "r = VTT.Recognizer()\n",
    "kr_audio = VTT.AudioFile('Data/Sample/Sample1.wav')"
   ]
  },
  {
   "cell_type": "code",
   "execution_count": 34,
   "id": "66d5eb01",
   "metadata": {},
   "outputs": [],
   "source": [
    "with kr_audio as source:\n",
    "    VTT_audio = r.record(source)"
   ]
  },
  {
   "cell_type": "code",
   "execution_count": 35,
   "id": "49ef4586",
   "metadata": {},
   "outputs": [
    {
     "name": "stdout",
     "output_type": "stream",
     "text": [
      "result2:\n",
      "{   'alternative': [   {   'confidence': 0.81939679,\n",
      "                           'transcript': '얼굴은 화끈 화끈 하고 가슴이 무서워 하는 사람처럼 뛰어 '\n",
      "                                         '놀았습니다'},\n",
      "                       {'transcript': '얼굴은 화끈 화끈 하고 가슴이 무서워하는 사람처럼 뛰어 놀았습니다'},\n",
      "                       {'transcript': '얼굴은 화끈화끈 하고 가슴이 무서워 하는 사람처럼 뛰어 놀았습니다'},\n",
      "                       {'transcript': '얼굴은 화끈화끈 하고 가슴이 무서워하는 사람처럼 뛰어 놀았습니다'},\n",
      "                       {'transcript': '얼굴은 화끈 화끈 하고 가슴이 무서워 하는 사람처럼 띠 놀았습니다'}],\n",
      "    'final': True}\n"
     ]
    }
   ],
   "source": [
    "temp = r.recognize_google(VTT_audio, language='ko-KR')"
   ]
  },
  {
   "cell_type": "code",
   "execution_count": null,
   "id": "c1b6e260",
   "metadata": {},
   "outputs": [],
   "source": [
    "sys.stdout = open(name + 'out.txt', 'w')\n",
    "print(temp)"
   ]
  }
 ],
 "metadata": {
  "kernelspec": {
   "display_name": "Python 3 (ipykernel)",
   "language": "python",
   "name": "python3"
  },
  "language_info": {
   "codemirror_mode": {
    "name": "ipython",
    "version": 3
   },
   "file_extension": ".py",
   "mimetype": "text/x-python",
   "name": "python",
   "nbconvert_exporter": "python",
   "pygments_lexer": "ipython3",
   "version": "3.10.8"
  }
 },
 "nbformat": 4,
 "nbformat_minor": 5
}
